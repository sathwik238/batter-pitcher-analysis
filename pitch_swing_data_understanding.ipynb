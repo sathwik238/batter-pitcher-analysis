{
 "cells": [
  {
   "cell_type": "markdown",
   "id": "b44b8e49-730c-46be-b009-3badd73114ea",
   "metadata": {
    "tags": [],
    "toc-hr-collapsed": true
   },
   "source": [
    "---\n",
    "# Project: Analysis of Batter-Pitcher Interactions Using Bat Speed and Swing Length\n",
    "\n",
    "### Overview\n",
    "\n",
    "This project aims to explore the intricate dynamics between batters and pitchers by analyzing new baseball data on bat speed and swing length. Using detailed pitch-level data from Major League Baseball games between 04/02/2024 and 06/30/2024, the study investigates how these metrics influence or reflect various aspects of the batter-pitcher interaction.\n",
    "\n",
    "### Program Description\n",
    "\n",
    "**Stage/Step 1:** This program utilizes pre-processed MLB data to perform model training and evaluation, focusing on the relationship between bat speed, swing length, and batter performance metrics.\n",
    "\n",
    "### Analysis Focus\n",
    "\n",
    "The notebook concentrates on:\n",
    "\n",
    "- Examining the correlation between bat speed, swing length, and plate discipline.\n",
    "- Identifying patterns in swing types relative to different game situations.\n",
    "- Evaluating the influence of pitchers on batter swing mechanics.\n",
    "\n",
    "### High-Level Process Flow\n",
    "\n",
    "1. **Loading Data**\n",
    "2. **Data Preprocessing**\n",
    "3. **Exploratory Data Analysis**\n",
    "4. **Model Training and Evaluation**\n",
    "5. **Results Visualization**\n",
    "6. **Exporting Findings**\n",
    "\n",
    "### Data\n",
    "\n",
    "- **Input Data:** MLB pitch-level dataset with bat speed and swing length metrics (04/02/2024 - 06/30/2024).\n",
    "- **Output Data:** Model performance metrics, analytical results, and visualizations.\n",
    "\n",
    "### Special Instructions\n",
    "\n",
    "- Ensure the input data path is correctly specified before running the script.\n",
    "- Dependencies include libraries such as `pandas`, `numpy`, `matplotlib`, `seaborn`, and `scikit-learn`.\n",
    "\n",
    "### Author and Timing\n",
    "\n",
    "- **Author:** *Sathwik Bollepalli*\n",
    "- **Date:** *10/22/2024*\n",
    "\n",
    "---"
   ]
  },
  {
   "cell_type": "code",
   "execution_count": 1,
   "id": "35fc5329-8dd0-4409-ac3d-df3876a00114",
   "metadata": {
    "tags": []
   },
   "outputs": [],
   "source": [
    "# Importing Required Libraries"
   ]
  },
  {
   "cell_type": "code",
   "execution_count": 2,
   "id": "67eb8353-6e9b-452b-b921-91ab3019821b",
   "metadata": {
    "tags": []
   },
   "outputs": [],
   "source": [
    "import pandas as pd\n",
    "import numpy as np\n",
    "import warnings \n",
    "warnings.filterwarnings('ignore')\n",
    "\n",
    "import matplotlib.pyplot as plt"
   ]
  },
  {
   "cell_type": "markdown",
   "id": "6ff45397-bc0c-4009-bc08-101a1379269d",
   "metadata": {},
   "source": [
    "# Read in Data"
   ]
  },
  {
   "cell_type": "code",
   "execution_count": 3,
   "id": "45be60b3-fc77-419b-bc43-2dc23ddb0bee",
   "metadata": {
    "tags": []
   },
   "outputs": [
    {
     "data": {
      "text/plain": [
       "(346250, 94)"
      ]
     },
     "execution_count": 3,
     "metadata": {},
     "output_type": "execute_result"
    }
   ],
   "source": [
    "pitch_swing_data = pd.read_csv(\n",
    "    'statcast_pitch_swing_data_20240402_20240630.zip', \n",
    "    compression='zip',\n",
    "    engine='python'\n",
    ")\n",
    "pitch_swing_data.shape"
   ]
  },
  {
   "cell_type": "code",
   "execution_count": 4,
   "id": "1e94bce2-88b9-4735-b824-02a09402691b",
   "metadata": {},
   "outputs": [
    {
     "data": {
      "text/html": [
       "<div>\n",
       "<style scoped>\n",
       "    .dataframe tbody tr th:only-of-type {\n",
       "        vertical-align: middle;\n",
       "    }\n",
       "\n",
       "    .dataframe tbody tr th {\n",
       "        vertical-align: top;\n",
       "    }\n",
       "\n",
       "    .dataframe thead th {\n",
       "        text-align: right;\n",
       "    }\n",
       "</style>\n",
       "<table border=\"1\" class=\"dataframe\">\n",
       "  <thead>\n",
       "    <tr style=\"text-align: right;\">\n",
       "      <th></th>\n",
       "      <th>pitch_type</th>\n",
       "      <th>game_date</th>\n",
       "      <th>release_speed</th>\n",
       "      <th>release_pos_x</th>\n",
       "      <th>release_pos_z</th>\n",
       "      <th>player_name</th>\n",
       "      <th>batter</th>\n",
       "      <th>pitcher</th>\n",
       "      <th>events</th>\n",
       "      <th>description</th>\n",
       "      <th>...</th>\n",
       "      <th>post_home_score</th>\n",
       "      <th>post_bat_score</th>\n",
       "      <th>post_fld_score</th>\n",
       "      <th>if_fielding_alignment</th>\n",
       "      <th>of_fielding_alignment</th>\n",
       "      <th>spin_axis</th>\n",
       "      <th>delta_home_win_exp</th>\n",
       "      <th>delta_run_exp</th>\n",
       "      <th>bat_speed</th>\n",
       "      <th>swing_length</th>\n",
       "    </tr>\n",
       "  </thead>\n",
       "  <tbody>\n",
       "    <tr>\n",
       "      <th>263927</th>\n",
       "      <td>FF</td>\n",
       "      <td>2024-06-09</td>\n",
       "      <td>95.0</td>\n",
       "      <td>-1.03</td>\n",
       "      <td>5.94</td>\n",
       "      <td>Santana, Carlos</td>\n",
       "      <td>467793</td>\n",
       "      <td>676702</td>\n",
       "      <td>NaN</td>\n",
       "      <td>ball</td>\n",
       "      <td>...</td>\n",
       "      <td>4</td>\n",
       "      <td>4</td>\n",
       "      <td>4</td>\n",
       "      <td>Standard</td>\n",
       "      <td>Standard</td>\n",
       "      <td>208.0</td>\n",
       "      <td>0.000</td>\n",
       "      <td>0.025</td>\n",
       "      <td>NaN</td>\n",
       "      <td>NaN</td>\n",
       "    </tr>\n",
       "    <tr>\n",
       "      <th>188409</th>\n",
       "      <td>FF</td>\n",
       "      <td>2024-05-20</td>\n",
       "      <td>91.8</td>\n",
       "      <td>2.67</td>\n",
       "      <td>6.02</td>\n",
       "      <td>Perkins, Blake</td>\n",
       "      <td>663368</td>\n",
       "      <td>677053</td>\n",
       "      <td>NaN</td>\n",
       "      <td>called_strike</td>\n",
       "      <td>...</td>\n",
       "      <td>1</td>\n",
       "      <td>2</td>\n",
       "      <td>1</td>\n",
       "      <td>Standard</td>\n",
       "      <td>Standard</td>\n",
       "      <td>145.0</td>\n",
       "      <td>0.000</td>\n",
       "      <td>-0.111</td>\n",
       "      <td>NaN</td>\n",
       "      <td>NaN</td>\n",
       "    </tr>\n",
       "    <tr>\n",
       "      <th>243935</th>\n",
       "      <td>FF</td>\n",
       "      <td>2024-06-04</td>\n",
       "      <td>92.4</td>\n",
       "      <td>-1.77</td>\n",
       "      <td>5.76</td>\n",
       "      <td>Ozuna, Marcell</td>\n",
       "      <td>542303</td>\n",
       "      <td>502624</td>\n",
       "      <td>NaN</td>\n",
       "      <td>swinging_strike</td>\n",
       "      <td>...</td>\n",
       "      <td>3</td>\n",
       "      <td>7</td>\n",
       "      <td>3</td>\n",
       "      <td>Standard</td>\n",
       "      <td>Standard</td>\n",
       "      <td>206.0</td>\n",
       "      <td>0.000</td>\n",
       "      <td>-0.044</td>\n",
       "      <td>73.973212</td>\n",
       "      <td>6.16332</td>\n",
       "    </tr>\n",
       "    <tr>\n",
       "      <th>299310</th>\n",
       "      <td>FF</td>\n",
       "      <td>2024-06-18</td>\n",
       "      <td>92.1</td>\n",
       "      <td>-3.78</td>\n",
       "      <td>4.70</td>\n",
       "      <td>Sheets, Gavin</td>\n",
       "      <td>657757</td>\n",
       "      <td>605463</td>\n",
       "      <td>NaN</td>\n",
       "      <td>foul</td>\n",
       "      <td>...</td>\n",
       "      <td>2</td>\n",
       "      <td>2</td>\n",
       "      <td>0</td>\n",
       "      <td>Infield shade</td>\n",
       "      <td>Standard</td>\n",
       "      <td>245.0</td>\n",
       "      <td>0.000</td>\n",
       "      <td>-0.047</td>\n",
       "      <td>63.637789</td>\n",
       "      <td>5.65958</td>\n",
       "    </tr>\n",
       "    <tr>\n",
       "      <th>233236</th>\n",
       "      <td>FC</td>\n",
       "      <td>2024-06-01</td>\n",
       "      <td>90.4</td>\n",
       "      <td>-1.54</td>\n",
       "      <td>6.00</td>\n",
       "      <td>Santander, Anthony</td>\n",
       "      <td>623993</td>\n",
       "      <td>671737</td>\n",
       "      <td>home_run</td>\n",
       "      <td>hit_into_play</td>\n",
       "      <td>...</td>\n",
       "      <td>3</td>\n",
       "      <td>3</td>\n",
       "      <td>0</td>\n",
       "      <td>Infield shade</td>\n",
       "      <td>Standard</td>\n",
       "      <td>162.0</td>\n",
       "      <td>0.081</td>\n",
       "      <td>1.037</td>\n",
       "      <td>76.123724</td>\n",
       "      <td>8.06524</td>\n",
       "    </tr>\n",
       "  </tbody>\n",
       "</table>\n",
       "<p>5 rows × 94 columns</p>\n",
       "</div>"
      ],
      "text/plain": [
       "       pitch_type   game_date  release_speed  release_pos_x  release_pos_z  \\\n",
       "263927         FF  2024-06-09           95.0          -1.03           5.94   \n",
       "188409         FF  2024-05-20           91.8           2.67           6.02   \n",
       "243935         FF  2024-06-04           92.4          -1.77           5.76   \n",
       "299310         FF  2024-06-18           92.1          -3.78           4.70   \n",
       "233236         FC  2024-06-01           90.4          -1.54           6.00   \n",
       "\n",
       "               player_name  batter  pitcher    events      description  ...  \\\n",
       "263927     Santana, Carlos  467793   676702       NaN             ball  ...   \n",
       "188409      Perkins, Blake  663368   677053       NaN    called_strike  ...   \n",
       "243935      Ozuna, Marcell  542303   502624       NaN  swinging_strike  ...   \n",
       "299310       Sheets, Gavin  657757   605463       NaN             foul  ...   \n",
       "233236  Santander, Anthony  623993   671737  home_run    hit_into_play  ...   \n",
       "\n",
       "        post_home_score  post_bat_score  post_fld_score  \\\n",
       "263927                4               4               4   \n",
       "188409                1               2               1   \n",
       "243935                3               7               3   \n",
       "299310                2               2               0   \n",
       "233236                3               3               0   \n",
       "\n",
       "        if_fielding_alignment  of_fielding_alignment spin_axis  \\\n",
       "263927               Standard               Standard     208.0   \n",
       "188409               Standard               Standard     145.0   \n",
       "243935               Standard               Standard     206.0   \n",
       "299310          Infield shade               Standard     245.0   \n",
       "233236          Infield shade               Standard     162.0   \n",
       "\n",
       "       delta_home_win_exp delta_run_exp  bat_speed swing_length  \n",
       "263927              0.000         0.025        NaN          NaN  \n",
       "188409              0.000        -0.111        NaN          NaN  \n",
       "243935              0.000        -0.044  73.973212      6.16332  \n",
       "299310              0.000        -0.047  63.637789      5.65958  \n",
       "233236              0.081         1.037  76.123724      8.06524  \n",
       "\n",
       "[5 rows x 94 columns]"
      ]
     },
     "execution_count": 4,
     "metadata": {},
     "output_type": "execute_result"
    }
   ],
   "source": [
    "pitch_swing_data.sample(5)"
   ]
  },
  {
   "cell_type": "markdown",
   "id": "55589852-2ad1-432e-81e3-1d09088dcbe2",
   "metadata": {},
   "source": [
    "# Data Cleaning / EDA"
   ]
  },
  {
   "cell_type": "code",
   "execution_count": 5,
   "id": "116b46b1-ec35-4f6c-8a0b-9218c8be4e29",
   "metadata": {
    "tags": []
   },
   "outputs": [
    {
     "data": {
      "text/html": [
       "<div>\n",
       "<style scoped>\n",
       "    .dataframe tbody tr th:only-of-type {\n",
       "        vertical-align: middle;\n",
       "    }\n",
       "\n",
       "    .dataframe tbody tr th {\n",
       "        vertical-align: top;\n",
       "    }\n",
       "\n",
       "    .dataframe thead th {\n",
       "        text-align: right;\n",
       "    }\n",
       "</style>\n",
       "<table border=\"1\" class=\"dataframe\">\n",
       "  <thead>\n",
       "    <tr style=\"text-align: right;\">\n",
       "      <th></th>\n",
       "      <th>release_speed</th>\n",
       "      <th>release_pos_x</th>\n",
       "      <th>release_pos_z</th>\n",
       "      <th>batter</th>\n",
       "      <th>pitcher</th>\n",
       "      <th>spin_dir</th>\n",
       "      <th>spin_rate_deprecated</th>\n",
       "      <th>break_angle_deprecated</th>\n",
       "      <th>break_length_deprecated</th>\n",
       "      <th>zone</th>\n",
       "      <th>...</th>\n",
       "      <th>fld_score</th>\n",
       "      <th>post_away_score</th>\n",
       "      <th>post_home_score</th>\n",
       "      <th>post_bat_score</th>\n",
       "      <th>post_fld_score</th>\n",
       "      <th>spin_axis</th>\n",
       "      <th>delta_home_win_exp</th>\n",
       "      <th>delta_run_exp</th>\n",
       "      <th>bat_speed</th>\n",
       "      <th>swing_length</th>\n",
       "    </tr>\n",
       "  </thead>\n",
       "  <tbody>\n",
       "    <tr>\n",
       "      <th>count</th>\n",
       "      <td>345997.000000</td>\n",
       "      <td>345998.000000</td>\n",
       "      <td>345998.000000</td>\n",
       "      <td>346250.000000</td>\n",
       "      <td>346250.000000</td>\n",
       "      <td>0.0</td>\n",
       "      <td>0.0</td>\n",
       "      <td>0.0</td>\n",
       "      <td>0.0</td>\n",
       "      <td>345998.000000</td>\n",
       "      <td>...</td>\n",
       "      <td>346250.000000</td>\n",
       "      <td>346250.000000</td>\n",
       "      <td>346250.000000</td>\n",
       "      <td>346250.000000</td>\n",
       "      <td>346250.000000</td>\n",
       "      <td>344049.000000</td>\n",
       "      <td>346250.000000</td>\n",
       "      <td>346230.000000</td>\n",
       "      <td>155826.000000</td>\n",
       "      <td>155812.000000</td>\n",
       "    </tr>\n",
       "    <tr>\n",
       "      <th>mean</th>\n",
       "      <td>89.054222</td>\n",
       "      <td>-0.808297</td>\n",
       "      <td>5.760631</td>\n",
       "      <td>640341.389103</td>\n",
       "      <td>635722.940624</td>\n",
       "      <td>NaN</td>\n",
       "      <td>NaN</td>\n",
       "      <td>NaN</td>\n",
       "      <td>NaN</td>\n",
       "      <td>9.040442</td>\n",
       "      <td>...</td>\n",
       "      <td>2.183864</td>\n",
       "      <td>2.231353</td>\n",
       "      <td>2.112918</td>\n",
       "      <td>2.160407</td>\n",
       "      <td>2.183864</td>\n",
       "      <td>175.860424</td>\n",
       "      <td>0.000148</td>\n",
       "      <td>-0.000182</td>\n",
       "      <td>69.524839</td>\n",
       "      <td>7.228375</td>\n",
       "    </tr>\n",
       "    <tr>\n",
       "      <th>std</th>\n",
       "      <td>5.938723</td>\n",
       "      <td>1.870899</td>\n",
       "      <td>0.536150</td>\n",
       "      <td>50853.025059</td>\n",
       "      <td>53502.645360</td>\n",
       "      <td>NaN</td>\n",
       "      <td>NaN</td>\n",
       "      <td>NaN</td>\n",
       "      <td>NaN</td>\n",
       "      <td>4.239416</td>\n",
       "      <td>...</td>\n",
       "      <td>2.548858</td>\n",
       "      <td>2.556218</td>\n",
       "      <td>2.457642</td>\n",
       "      <td>2.466640</td>\n",
       "      <td>2.548858</td>\n",
       "      <td>72.457796</td>\n",
       "      <td>0.027843</td>\n",
       "      <td>0.240541</td>\n",
       "      <td>8.587908</td>\n",
       "      <td>0.979416</td>\n",
       "    </tr>\n",
       "    <tr>\n",
       "      <th>min</th>\n",
       "      <td>31.900000</td>\n",
       "      <td>-4.680000</td>\n",
       "      <td>0.850000</td>\n",
       "      <td>444482.000000</td>\n",
       "      <td>434378.000000</td>\n",
       "      <td>NaN</td>\n",
       "      <td>NaN</td>\n",
       "      <td>NaN</td>\n",
       "      <td>NaN</td>\n",
       "      <td>1.000000</td>\n",
       "      <td>...</td>\n",
       "      <td>0.000000</td>\n",
       "      <td>0.000000</td>\n",
       "      <td>0.000000</td>\n",
       "      <td>0.000000</td>\n",
       "      <td>0.000000</td>\n",
       "      <td>0.000000</td>\n",
       "      <td>-0.776000</td>\n",
       "      <td>-1.479000</td>\n",
       "      <td>0.851208</td>\n",
       "      <td>0.305870</td>\n",
       "    </tr>\n",
       "    <tr>\n",
       "      <th>25%</th>\n",
       "      <td>84.700000</td>\n",
       "      <td>-2.120000</td>\n",
       "      <td>5.490000</td>\n",
       "      <td>621028.000000</td>\n",
       "      <td>607192.000000</td>\n",
       "      <td>NaN</td>\n",
       "      <td>NaN</td>\n",
       "      <td>NaN</td>\n",
       "      <td>NaN</td>\n",
       "      <td>5.000000</td>\n",
       "      <td>...</td>\n",
       "      <td>0.000000</td>\n",
       "      <td>0.000000</td>\n",
       "      <td>0.000000</td>\n",
       "      <td>0.000000</td>\n",
       "      <td>0.000000</td>\n",
       "      <td>128.000000</td>\n",
       "      <td>0.000000</td>\n",
       "      <td>-0.064000</td>\n",
       "      <td>67.006615</td>\n",
       "      <td>6.660660</td>\n",
       "    </tr>\n",
       "    <tr>\n",
       "      <th>50%</th>\n",
       "      <td>89.900000</td>\n",
       "      <td>-1.490000</td>\n",
       "      <td>5.800000</td>\n",
       "      <td>663624.000000</td>\n",
       "      <td>656887.000000</td>\n",
       "      <td>NaN</td>\n",
       "      <td>NaN</td>\n",
       "      <td>NaN</td>\n",
       "      <td>NaN</td>\n",
       "      <td>11.000000</td>\n",
       "      <td>...</td>\n",
       "      <td>1.000000</td>\n",
       "      <td>1.000000</td>\n",
       "      <td>1.000000</td>\n",
       "      <td>1.000000</td>\n",
       "      <td>1.000000</td>\n",
       "      <td>199.000000</td>\n",
       "      <td>0.000000</td>\n",
       "      <td>-0.015000</td>\n",
       "      <td>70.907687</td>\n",
       "      <td>7.282000</td>\n",
       "    </tr>\n",
       "    <tr>\n",
       "      <th>75%</th>\n",
       "      <td>93.900000</td>\n",
       "      <td>0.920000</td>\n",
       "      <td>6.090000</td>\n",
       "      <td>671218.000000</td>\n",
       "      <td>670059.000000</td>\n",
       "      <td>NaN</td>\n",
       "      <td>NaN</td>\n",
       "      <td>NaN</td>\n",
       "      <td>NaN</td>\n",
       "      <td>13.000000</td>\n",
       "      <td>...</td>\n",
       "      <td>3.000000</td>\n",
       "      <td>3.000000</td>\n",
       "      <td>3.000000</td>\n",
       "      <td>3.000000</td>\n",
       "      <td>3.000000</td>\n",
       "      <td>223.000000</td>\n",
       "      <td>0.000000</td>\n",
       "      <td>0.032000</td>\n",
       "      <td>74.197170</td>\n",
       "      <td>7.884032</td>\n",
       "    </tr>\n",
       "    <tr>\n",
       "      <th>max</th>\n",
       "      <td>104.000000</td>\n",
       "      <td>4.620000</td>\n",
       "      <td>7.530000</td>\n",
       "      <td>808982.000000</td>\n",
       "      <td>814005.000000</td>\n",
       "      <td>NaN</td>\n",
       "      <td>NaN</td>\n",
       "      <td>NaN</td>\n",
       "      <td>NaN</td>\n",
       "      <td>14.000000</td>\n",
       "      <td>...</td>\n",
       "      <td>20.000000</td>\n",
       "      <td>17.000000</td>\n",
       "      <td>20.000000</td>\n",
       "      <td>20.000000</td>\n",
       "      <td>20.000000</td>\n",
       "      <td>360.000000</td>\n",
       "      <td>0.840000</td>\n",
       "      <td>3.503000</td>\n",
       "      <td>87.978801</td>\n",
       "      <td>10.386860</td>\n",
       "    </tr>\n",
       "  </tbody>\n",
       "</table>\n",
       "<p>8 rows × 77 columns</p>\n",
       "</div>"
      ],
      "text/plain": [
       "       release_speed  release_pos_x  release_pos_z         batter  \\\n",
       "count  345997.000000  345998.000000  345998.000000  346250.000000   \n",
       "mean       89.054222      -0.808297       5.760631  640341.389103   \n",
       "std         5.938723       1.870899       0.536150   50853.025059   \n",
       "min        31.900000      -4.680000       0.850000  444482.000000   \n",
       "25%        84.700000      -2.120000       5.490000  621028.000000   \n",
       "50%        89.900000      -1.490000       5.800000  663624.000000   \n",
       "75%        93.900000       0.920000       6.090000  671218.000000   \n",
       "max       104.000000       4.620000       7.530000  808982.000000   \n",
       "\n",
       "             pitcher  spin_dir  spin_rate_deprecated  break_angle_deprecated  \\\n",
       "count  346250.000000       0.0                   0.0                     0.0   \n",
       "mean   635722.940624       NaN                   NaN                     NaN   \n",
       "std     53502.645360       NaN                   NaN                     NaN   \n",
       "min    434378.000000       NaN                   NaN                     NaN   \n",
       "25%    607192.000000       NaN                   NaN                     NaN   \n",
       "50%    656887.000000       NaN                   NaN                     NaN   \n",
       "75%    670059.000000       NaN                   NaN                     NaN   \n",
       "max    814005.000000       NaN                   NaN                     NaN   \n",
       "\n",
       "       break_length_deprecated           zone  ...      fld_score  \\\n",
       "count                      0.0  345998.000000  ...  346250.000000   \n",
       "mean                       NaN       9.040442  ...       2.183864   \n",
       "std                        NaN       4.239416  ...       2.548858   \n",
       "min                        NaN       1.000000  ...       0.000000   \n",
       "25%                        NaN       5.000000  ...       0.000000   \n",
       "50%                        NaN      11.000000  ...       1.000000   \n",
       "75%                        NaN      13.000000  ...       3.000000   \n",
       "max                        NaN      14.000000  ...      20.000000   \n",
       "\n",
       "       post_away_score  post_home_score  post_bat_score  post_fld_score  \\\n",
       "count    346250.000000    346250.000000   346250.000000   346250.000000   \n",
       "mean          2.231353         2.112918        2.160407        2.183864   \n",
       "std           2.556218         2.457642        2.466640        2.548858   \n",
       "min           0.000000         0.000000        0.000000        0.000000   \n",
       "25%           0.000000         0.000000        0.000000        0.000000   \n",
       "50%           1.000000         1.000000        1.000000        1.000000   \n",
       "75%           3.000000         3.000000        3.000000        3.000000   \n",
       "max          17.000000        20.000000       20.000000       20.000000   \n",
       "\n",
       "           spin_axis  delta_home_win_exp  delta_run_exp      bat_speed  \\\n",
       "count  344049.000000       346250.000000  346230.000000  155826.000000   \n",
       "mean      175.860424            0.000148      -0.000182      69.524839   \n",
       "std        72.457796            0.027843       0.240541       8.587908   \n",
       "min         0.000000           -0.776000      -1.479000       0.851208   \n",
       "25%       128.000000            0.000000      -0.064000      67.006615   \n",
       "50%       199.000000            0.000000      -0.015000      70.907687   \n",
       "75%       223.000000            0.000000       0.032000      74.197170   \n",
       "max       360.000000            0.840000       3.503000      87.978801   \n",
       "\n",
       "        swing_length  \n",
       "count  155812.000000  \n",
       "mean        7.228375  \n",
       "std         0.979416  \n",
       "min         0.305870  \n",
       "25%         6.660660  \n",
       "50%         7.282000  \n",
       "75%         7.884032  \n",
       "max        10.386860  \n",
       "\n",
       "[8 rows x 77 columns]"
      ]
     },
     "execution_count": 5,
     "metadata": {},
     "output_type": "execute_result"
    }
   ],
   "source": [
    "pitch_swing_data.describe()"
   ]
  },
  {
   "cell_type": "code",
   "execution_count": 6,
   "id": "98864408-29ba-4b7a-9dfa-906eeecd9cf9",
   "metadata": {},
   "outputs": [
    {
     "name": "stdout",
     "output_type": "stream",
     "text": [
      "<class 'pandas.core.frame.DataFrame'>\n",
      "RangeIndex: 346250 entries, 0 to 346249\n",
      "Data columns (total 94 columns):\n",
      " #   Column                           Non-Null Count   Dtype  \n",
      "---  ------                           --------------   -----  \n",
      " 0   pitch_type                       346000 non-null  object \n",
      " 1   game_date                        346250 non-null  object \n",
      " 2   release_speed                    345997 non-null  float64\n",
      " 3   release_pos_x                    345998 non-null  float64\n",
      " 4   release_pos_z                    345998 non-null  float64\n",
      " 5   player_name                      346250 non-null  object \n",
      " 6   batter                           346250 non-null  int64  \n",
      " 7   pitcher                          346250 non-null  int64  \n",
      " 8   events                           89144 non-null   object \n",
      " 9   description                      346250 non-null  object \n",
      " 10  spin_dir                         0 non-null       float64\n",
      " 11  spin_rate_deprecated             0 non-null       float64\n",
      " 12  break_angle_deprecated           0 non-null       float64\n",
      " 13  break_length_deprecated          0 non-null       float64\n",
      " 14  zone                             345998 non-null  float64\n",
      " 15  des                              346250 non-null  object \n",
      " 16  game_type                        346250 non-null  object \n",
      " 17  stand                            346250 non-null  object \n",
      " 18  p_throws                         346250 non-null  object \n",
      " 19  home_team                        346250 non-null  object \n",
      " 20  away_team                        346250 non-null  object \n",
      " 21  type                             346250 non-null  object \n",
      " 22  hit_location                     78362 non-null   float64\n",
      " 23  bb_type                          61101 non-null   object \n",
      " 24  balls                            346250 non-null  int64  \n",
      " 25  strikes                          346250 non-null  int64  \n",
      " 26  game_year                        346250 non-null  int64  \n",
      " 27  pfx_x                            345998 non-null  float64\n",
      " 28  pfx_z                            345998 non-null  float64\n",
      " 29  plate_x                          345998 non-null  float64\n",
      " 30  plate_z                          345998 non-null  float64\n",
      " 31  on_3b                            32101 non-null   float64\n",
      " 32  on_2b                            65035 non-null   float64\n",
      " 33  on_1b                            104428 non-null  float64\n",
      " 34  outs_when_up                     346250 non-null  int64  \n",
      " 35  inning                           346250 non-null  int64  \n",
      " 36  inning_topbot                    346250 non-null  object \n",
      " 37  hc_x                             61082 non-null   float64\n",
      " 38  hc_y                             61082 non-null   float64\n",
      " 39  tfs_deprecated                   0 non-null       float64\n",
      " 40  tfs_zulu_deprecated              0 non-null       float64\n",
      " 41  fielder_2                        346250 non-null  int64  \n",
      " 42  umpire                           0 non-null       float64\n",
      " 43  sv_id                            0 non-null       float64\n",
      " 44  vx0                              345998 non-null  float64\n",
      " 45  vy0                              345998 non-null  float64\n",
      " 46  vz0                              345998 non-null  float64\n",
      " 47  ax                               345998 non-null  float64\n",
      " 48  ay                               345998 non-null  float64\n",
      " 49  az                               345998 non-null  float64\n",
      " 50  sz_top                           345998 non-null  float64\n",
      " 51  sz_bot                           345998 non-null  float64\n",
      " 52  hit_distance_sc                  116533 non-null  float64\n",
      " 53  launch_speed                     115835 non-null  float64\n",
      " 54  launch_angle                     115995 non-null  float64\n",
      " 55  effective_speed                  345174 non-null  float64\n",
      " 56  release_spin_rate                344047 non-null  float64\n",
      " 57  release_extension                345277 non-null  float64\n",
      " 58  game_pk                          346250 non-null  int64  \n",
      " 59  pitcher_1                        346250 non-null  int64  \n",
      " 60  fielder_2_1                      346250 non-null  int64  \n",
      " 61  fielder_3                        346250 non-null  int64  \n",
      " 62  fielder_4                        346250 non-null  int64  \n",
      " 63  fielder_5                        346250 non-null  int64  \n",
      " 64  fielder_6                        346250 non-null  int64  \n",
      " 65  fielder_7                        346250 non-null  int64  \n",
      " 66  fielder_8                        346250 non-null  int64  \n",
      " 67  fielder_9                        346250 non-null  int64  \n",
      " 68  release_pos_y                    345998 non-null  float64\n",
      " 69  estimated_ba_using_speedangle    60879 non-null   float64\n",
      " 70  estimated_woba_using_speedangle  88487 non-null   float64\n",
      " 71  woba_value                       89144 non-null   float64\n",
      " 72  woba_denom                       88922 non-null   float64\n",
      " 73  babip_value                      89144 non-null   float64\n",
      " 74  iso_value                        89144 non-null   float64\n",
      " 75  launch_speed_angle               60879 non-null   float64\n",
      " 76  at_bat_number                    346250 non-null  int64  \n",
      " 77  pitch_number                     346250 non-null  int64  \n",
      " 78  pitch_name                       346000 non-null  object \n",
      " 79  home_score                       346250 non-null  int64  \n",
      " 80  away_score                       346250 non-null  int64  \n",
      " 81  bat_score                        346250 non-null  int64  \n",
      " 82  fld_score                        346250 non-null  int64  \n",
      " 83  post_away_score                  346250 non-null  int64  \n",
      " 84  post_home_score                  346250 non-null  int64  \n",
      " 85  post_bat_score                   346250 non-null  int64  \n",
      " 86  post_fld_score                   346250 non-null  int64  \n",
      " 87  if_fielding_alignment            343985 non-null  object \n",
      " 88  of_fielding_alignment            343985 non-null  object \n",
      " 89  spin_axis                        344049 non-null  float64\n",
      " 90  delta_home_win_exp               346250 non-null  float64\n",
      " 91  delta_run_exp                    346230 non-null  float64\n",
      " 92  bat_speed                        155826 non-null  float64\n",
      " 93  swing_length                     155812 non-null  float64\n",
      "dtypes: float64(49), int64(28), object(17)\n",
      "memory usage: 248.3+ MB\n"
     ]
    }
   ],
   "source": [
    "pitch_swing_data.info()"
   ]
  },
  {
   "cell_type": "markdown",
   "id": "649d8e47-13b8-4793-8226-58a50f624476",
   "metadata": {},
   "source": [
    "## Columns with more than 100% missing"
   ]
  },
  {
   "cell_type": "code",
   "execution_count": 7,
   "id": "3adb0e54-06e6-42e1-8140-be892b143a84",
   "metadata": {
    "tags": []
   },
   "outputs": [
    {
     "data": {
      "text/html": [
       "<div>\n",
       "<style scoped>\n",
       "    .dataframe tbody tr th:only-of-type {\n",
       "        vertical-align: middle;\n",
       "    }\n",
       "\n",
       "    .dataframe tbody tr th {\n",
       "        vertical-align: top;\n",
       "    }\n",
       "\n",
       "    .dataframe thead th {\n",
       "        text-align: right;\n",
       "    }\n",
       "</style>\n",
       "<table border=\"1\" class=\"dataframe\">\n",
       "  <thead>\n",
       "    <tr style=\"text-align: right;\">\n",
       "      <th></th>\n",
       "      <th>index</th>\n",
       "      <th>0</th>\n",
       "    </tr>\n",
       "  </thead>\n",
       "  <tbody>\n",
       "    <tr>\n",
       "      <th>10</th>\n",
       "      <td>spin_dir</td>\n",
       "      <td>100.0</td>\n",
       "    </tr>\n",
       "    <tr>\n",
       "      <th>11</th>\n",
       "      <td>spin_rate_deprecated</td>\n",
       "      <td>100.0</td>\n",
       "    </tr>\n",
       "    <tr>\n",
       "      <th>12</th>\n",
       "      <td>break_angle_deprecated</td>\n",
       "      <td>100.0</td>\n",
       "    </tr>\n",
       "    <tr>\n",
       "      <th>13</th>\n",
       "      <td>break_length_deprecated</td>\n",
       "      <td>100.0</td>\n",
       "    </tr>\n",
       "    <tr>\n",
       "      <th>39</th>\n",
       "      <td>tfs_deprecated</td>\n",
       "      <td>100.0</td>\n",
       "    </tr>\n",
       "    <tr>\n",
       "      <th>40</th>\n",
       "      <td>tfs_zulu_deprecated</td>\n",
       "      <td>100.0</td>\n",
       "    </tr>\n",
       "    <tr>\n",
       "      <th>42</th>\n",
       "      <td>umpire</td>\n",
       "      <td>100.0</td>\n",
       "    </tr>\n",
       "    <tr>\n",
       "      <th>43</th>\n",
       "      <td>sv_id</td>\n",
       "      <td>100.0</td>\n",
       "    </tr>\n",
       "  </tbody>\n",
       "</table>\n",
       "</div>"
      ],
      "text/plain": [
       "                      index      0\n",
       "10                 spin_dir  100.0\n",
       "11     spin_rate_deprecated  100.0\n",
       "12   break_angle_deprecated  100.0\n",
       "13  break_length_deprecated  100.0\n",
       "39           tfs_deprecated  100.0\n",
       "40      tfs_zulu_deprecated  100.0\n",
       "42                   umpire  100.0\n",
       "43                    sv_id  100.0"
      ]
     },
     "execution_count": 7,
     "metadata": {},
     "output_type": "execute_result"
    }
   ],
   "source": [
    "missing_pct = pd.DataFrame(pitch_swing_data.isnull().mean()*100).reset_index()\n",
    "\n",
    "missing_pct[missing_pct[0]>99]"
   ]
  },
  {
   "cell_type": "code",
   "execution_count": 8,
   "id": "170f6edc-62b0-4554-88c8-01bf614019bc",
   "metadata": {
    "tags": []
   },
   "outputs": [
    {
     "data": {
      "text/plain": [
       "array(['spin_dir', 'spin_rate_deprecated', 'break_angle_deprecated',\n",
       "       'break_length_deprecated', 'tfs_deprecated', 'tfs_zulu_deprecated',\n",
       "       'umpire', 'sv_id'], dtype=object)"
      ]
     },
     "execution_count": 8,
     "metadata": {},
     "output_type": "execute_result"
    }
   ],
   "source": [
    "missing_pct[missing_pct[0]>99]['index'].values"
   ]
  },
  {
   "cell_type": "markdown",
   "id": "f7a2eea4-e393-4188-8b1e-c7c70a302703",
   "metadata": {},
   "source": [
    "## Dropping Completely null columns"
   ]
  },
  {
   "cell_type": "code",
   "execution_count": 9,
   "id": "17a52d76-f7b9-417f-8dd8-02efadba77c0",
   "metadata": {
    "tags": []
   },
   "outputs": [],
   "source": [
    "pitch_swing_data.drop(missing_pct[missing_pct[0]>99]['index'].values, axis =1, inplace = True)"
   ]
  },
  {
   "cell_type": "code",
   "execution_count": 10,
   "id": "2ef8dd5e-76b2-4fad-9bf2-20f845ff005d",
   "metadata": {
    "tags": []
   },
   "outputs": [
    {
     "name": "stdout",
     "output_type": "stream",
     "text": [
      "pitch_type (object): 16 unique values\n",
      "game_date (object): 90 unique values\n",
      "player_name (object): 559 unique values\n",
      "events (object): 29 unique values\n",
      "description (object): 13 unique values\n",
      "des (object): 62167 unique values\n",
      "game_type (object): 1 unique values\n",
      "stand (object): 2 unique values\n",
      "p_throws (object): 2 unique values\n",
      "home_team (object): 30 unique values\n",
      "away_team (object): 30 unique values\n",
      "type (object): 3 unique values\n",
      "bb_type (object): 4 unique values\n",
      "inning_topbot (object): 2 unique values\n",
      "pitch_name (object): 16 unique values\n",
      "if_fielding_alignment (object): 3 unique values\n",
      "of_fielding_alignment (object): 2 unique values\n"
     ]
    }
   ],
   "source": [
    "# Check number of unique values for categorical columns\n",
    "for col in pitch_swing_data.columns:\n",
    "    data_type = pitch_swing_data[col].dtype\n",
    "    if data_type == 'object':\n",
    "        num_unique = pitch_swing_data[col].nunique()\n",
    "        print(f\"{col} ({data_type}): {num_unique} unique values\")\n"
   ]
  },
  {
   "cell_type": "markdown",
   "id": "b545a406-5d2a-4b59-abfa-d18f916854d3",
   "metadata": {},
   "source": [
    "## Dropping game_type, it has only 1 value/category"
   ]
  },
  {
   "cell_type": "code",
   "execution_count": 11,
   "id": "86e21ebb-56a6-4bc4-8e57-ee510724b77a",
   "metadata": {
    "tags": []
   },
   "outputs": [],
   "source": [
    "pitch_swing_data.drop(['game_type'], axis =1, inplace = True)"
   ]
  },
  {
   "cell_type": "code",
   "execution_count": 12,
   "id": "916ab20d-1892-4eea-839a-191c8c1fae2a",
   "metadata": {
    "tags": []
   },
   "outputs": [
    {
     "data": {
      "text/html": [
       "<div>\n",
       "<style scoped>\n",
       "    .dataframe tbody tr th:only-of-type {\n",
       "        vertical-align: middle;\n",
       "    }\n",
       "\n",
       "    .dataframe tbody tr th {\n",
       "        vertical-align: top;\n",
       "    }\n",
       "\n",
       "    .dataframe thead th {\n",
       "        text-align: right;\n",
       "    }\n",
       "</style>\n",
       "<table border=\"1\" class=\"dataframe\">\n",
       "  <thead>\n",
       "    <tr style=\"text-align: right;\">\n",
       "      <th></th>\n",
       "      <th>pitch_type</th>\n",
       "      <th>game_date</th>\n",
       "      <th>release_speed</th>\n",
       "      <th>release_pos_x</th>\n",
       "      <th>release_pos_z</th>\n",
       "      <th>player_name</th>\n",
       "      <th>batter</th>\n",
       "      <th>pitcher</th>\n",
       "      <th>events</th>\n",
       "      <th>description</th>\n",
       "      <th>...</th>\n",
       "      <th>post_home_score</th>\n",
       "      <th>post_bat_score</th>\n",
       "      <th>post_fld_score</th>\n",
       "      <th>if_fielding_alignment</th>\n",
       "      <th>of_fielding_alignment</th>\n",
       "      <th>spin_axis</th>\n",
       "      <th>delta_home_win_exp</th>\n",
       "      <th>delta_run_exp</th>\n",
       "      <th>bat_speed</th>\n",
       "      <th>swing_length</th>\n",
       "    </tr>\n",
       "  </thead>\n",
       "  <tbody>\n",
       "    <tr>\n",
       "      <th>0</th>\n",
       "      <td>FF</td>\n",
       "      <td>2024-04-02</td>\n",
       "      <td>95.0</td>\n",
       "      <td>-2.01</td>\n",
       "      <td>5.22</td>\n",
       "      <td>Rocchio, Brayan</td>\n",
       "      <td>677587</td>\n",
       "      <td>622491</td>\n",
       "      <td>single</td>\n",
       "      <td>hit_into_play</td>\n",
       "      <td>...</td>\n",
       "      <td>0</td>\n",
       "      <td>4</td>\n",
       "      <td>0</td>\n",
       "      <td>Infield shade</td>\n",
       "      <td>Standard</td>\n",
       "      <td>239.0</td>\n",
       "      <td>-0.006</td>\n",
       "      <td>0.388</td>\n",
       "      <td>NaN</td>\n",
       "      <td>NaN</td>\n",
       "    </tr>\n",
       "    <tr>\n",
       "      <th>1</th>\n",
       "      <td>CH</td>\n",
       "      <td>2024-04-02</td>\n",
       "      <td>88.5</td>\n",
       "      <td>-2.09</td>\n",
       "      <td>4.95</td>\n",
       "      <td>Rocchio, Brayan</td>\n",
       "      <td>677587</td>\n",
       "      <td>622491</td>\n",
       "      <td>NaN</td>\n",
       "      <td>foul</td>\n",
       "      <td>...</td>\n",
       "      <td>0</td>\n",
       "      <td>4</td>\n",
       "      <td>0</td>\n",
       "      <td>Standard</td>\n",
       "      <td>Standard</td>\n",
       "      <td>253.0</td>\n",
       "      <td>0.000</td>\n",
       "      <td>-0.045</td>\n",
       "      <td>NaN</td>\n",
       "      <td>NaN</td>\n",
       "    </tr>\n",
       "    <tr>\n",
       "      <th>2</th>\n",
       "      <td>SI</td>\n",
       "      <td>2024-04-02</td>\n",
       "      <td>95.0</td>\n",
       "      <td>-2.02</td>\n",
       "      <td>5.12</td>\n",
       "      <td>Rocchio, Brayan</td>\n",
       "      <td>677587</td>\n",
       "      <td>622491</td>\n",
       "      <td>NaN</td>\n",
       "      <td>called_strike</td>\n",
       "      <td>...</td>\n",
       "      <td>0</td>\n",
       "      <td>4</td>\n",
       "      <td>0</td>\n",
       "      <td>Standard</td>\n",
       "      <td>Standard</td>\n",
       "      <td>238.0</td>\n",
       "      <td>0.000</td>\n",
       "      <td>-0.042</td>\n",
       "      <td>NaN</td>\n",
       "      <td>NaN</td>\n",
       "    </tr>\n",
       "    <tr>\n",
       "      <th>4</th>\n",
       "      <td>FF</td>\n",
       "      <td>2024-04-02</td>\n",
       "      <td>95.4</td>\n",
       "      <td>-1.95</td>\n",
       "      <td>5.12</td>\n",
       "      <td>Hedges, Austin</td>\n",
       "      <td>595978</td>\n",
       "      <td>622491</td>\n",
       "      <td>strikeout</td>\n",
       "      <td>foul_tip</td>\n",
       "      <td>...</td>\n",
       "      <td>0</td>\n",
       "      <td>4</td>\n",
       "      <td>0</td>\n",
       "      <td>Standard</td>\n",
       "      <td>Standard</td>\n",
       "      <td>238.0</td>\n",
       "      <td>0.008</td>\n",
       "      <td>-0.215</td>\n",
       "      <td>NaN</td>\n",
       "      <td>NaN</td>\n",
       "    </tr>\n",
       "    <tr>\n",
       "      <th>9</th>\n",
       "      <td>SI</td>\n",
       "      <td>2024-04-02</td>\n",
       "      <td>94.0</td>\n",
       "      <td>-1.90</td>\n",
       "      <td>4.99</td>\n",
       "      <td>Hedges, Austin</td>\n",
       "      <td>595978</td>\n",
       "      <td>622491</td>\n",
       "      <td>NaN</td>\n",
       "      <td>called_strike</td>\n",
       "      <td>...</td>\n",
       "      <td>0</td>\n",
       "      <td>4</td>\n",
       "      <td>0</td>\n",
       "      <td>Standard</td>\n",
       "      <td>Standard</td>\n",
       "      <td>239.0</td>\n",
       "      <td>0.000</td>\n",
       "      <td>-0.067</td>\n",
       "      <td>NaN</td>\n",
       "      <td>NaN</td>\n",
       "    </tr>\n",
       "    <tr>\n",
       "      <th>...</th>\n",
       "      <td>...</td>\n",
       "      <td>...</td>\n",
       "      <td>...</td>\n",
       "      <td>...</td>\n",
       "      <td>...</td>\n",
       "      <td>...</td>\n",
       "      <td>...</td>\n",
       "      <td>...</td>\n",
       "      <td>...</td>\n",
       "      <td>...</td>\n",
       "      <td>...</td>\n",
       "      <td>...</td>\n",
       "      <td>...</td>\n",
       "      <td>...</td>\n",
       "      <td>...</td>\n",
       "      <td>...</td>\n",
       "      <td>...</td>\n",
       "      <td>...</td>\n",
       "      <td>...</td>\n",
       "      <td>...</td>\n",
       "      <td>...</td>\n",
       "    </tr>\n",
       "    <tr>\n",
       "      <th>3578</th>\n",
       "      <td>FC</td>\n",
       "      <td>2024-04-02</td>\n",
       "      <td>90.1</td>\n",
       "      <td>-3.40</td>\n",
       "      <td>5.20</td>\n",
       "      <td>Kwan, Steven</td>\n",
       "      <td>680757</td>\n",
       "      <td>676092</td>\n",
       "      <td>NaN</td>\n",
       "      <td>called_strike</td>\n",
       "      <td>...</td>\n",
       "      <td>2</td>\n",
       "      <td>5</td>\n",
       "      <td>2</td>\n",
       "      <td>Standard</td>\n",
       "      <td>Standard</td>\n",
       "      <td>180.0</td>\n",
       "      <td>0.000</td>\n",
       "      <td>-0.033</td>\n",
       "      <td>NaN</td>\n",
       "      <td>NaN</td>\n",
       "    </tr>\n",
       "    <tr>\n",
       "      <th>3582</th>\n",
       "      <td>CH</td>\n",
       "      <td>2024-04-02</td>\n",
       "      <td>76.5</td>\n",
       "      <td>-0.51</td>\n",
       "      <td>5.88</td>\n",
       "      <td>Raleigh, Cal</td>\n",
       "      <td>663728</td>\n",
       "      <td>669212</td>\n",
       "      <td>NaN</td>\n",
       "      <td>called_strike</td>\n",
       "      <td>...</td>\n",
       "      <td>0</td>\n",
       "      <td>0</td>\n",
       "      <td>5</td>\n",
       "      <td>Infield shade</td>\n",
       "      <td>Standard</td>\n",
       "      <td>269.0</td>\n",
       "      <td>0.000</td>\n",
       "      <td>-0.033</td>\n",
       "      <td>NaN</td>\n",
       "      <td>NaN</td>\n",
       "    </tr>\n",
       "    <tr>\n",
       "      <th>3607</th>\n",
       "      <td>SI</td>\n",
       "      <td>2024-04-02</td>\n",
       "      <td>94.5</td>\n",
       "      <td>-2.64</td>\n",
       "      <td>5.37</td>\n",
       "      <td>Freeman, Tyler</td>\n",
       "      <td>671289</td>\n",
       "      <td>675989</td>\n",
       "      <td>NaN</td>\n",
       "      <td>called_strike</td>\n",
       "      <td>...</td>\n",
       "      <td>0</td>\n",
       "      <td>4</td>\n",
       "      <td>0</td>\n",
       "      <td>Standard</td>\n",
       "      <td>Standard</td>\n",
       "      <td>224.0</td>\n",
       "      <td>0.000</td>\n",
       "      <td>-0.068</td>\n",
       "      <td>NaN</td>\n",
       "      <td>NaN</td>\n",
       "    </tr>\n",
       "    <tr>\n",
       "      <th>3608</th>\n",
       "      <td>SI</td>\n",
       "      <td>2024-04-02</td>\n",
       "      <td>94.8</td>\n",
       "      <td>-2.50</td>\n",
       "      <td>5.12</td>\n",
       "      <td>Kwan, Steven</td>\n",
       "      <td>680757</td>\n",
       "      <td>622491</td>\n",
       "      <td>NaN</td>\n",
       "      <td>called_strike</td>\n",
       "      <td>...</td>\n",
       "      <td>0</td>\n",
       "      <td>0</td>\n",
       "      <td>0</td>\n",
       "      <td>Standard</td>\n",
       "      <td>Standard</td>\n",
       "      <td>235.0</td>\n",
       "      <td>0.000</td>\n",
       "      <td>-0.033</td>\n",
       "      <td>NaN</td>\n",
       "      <td>NaN</td>\n",
       "    </tr>\n",
       "    <tr>\n",
       "      <th>3613</th>\n",
       "      <td>SL</td>\n",
       "      <td>2024-04-02</td>\n",
       "      <td>83.2</td>\n",
       "      <td>2.43</td>\n",
       "      <td>5.54</td>\n",
       "      <td>Kwan, Steven</td>\n",
       "      <td>680757</td>\n",
       "      <td>642048</td>\n",
       "      <td>NaN</td>\n",
       "      <td>called_strike</td>\n",
       "      <td>...</td>\n",
       "      <td>0</td>\n",
       "      <td>4</td>\n",
       "      <td>0</td>\n",
       "      <td>Standard</td>\n",
       "      <td>Standard</td>\n",
       "      <td>234.0</td>\n",
       "      <td>0.000</td>\n",
       "      <td>-0.067</td>\n",
       "      <td>NaN</td>\n",
       "      <td>NaN</td>\n",
       "    </tr>\n",
       "  </tbody>\n",
       "</table>\n",
       "<p>281 rows × 85 columns</p>\n",
       "</div>"
      ],
      "text/plain": [
       "     pitch_type   game_date  release_speed  release_pos_x  release_pos_z  \\\n",
       "0            FF  2024-04-02           95.0          -2.01           5.22   \n",
       "1            CH  2024-04-02           88.5          -2.09           4.95   \n",
       "2            SI  2024-04-02           95.0          -2.02           5.12   \n",
       "4            FF  2024-04-02           95.4          -1.95           5.12   \n",
       "9            SI  2024-04-02           94.0          -1.90           4.99   \n",
       "...         ...         ...            ...            ...            ...   \n",
       "3578         FC  2024-04-02           90.1          -3.40           5.20   \n",
       "3582         CH  2024-04-02           76.5          -0.51           5.88   \n",
       "3607         SI  2024-04-02           94.5          -2.64           5.37   \n",
       "3608         SI  2024-04-02           94.8          -2.50           5.12   \n",
       "3613         SL  2024-04-02           83.2           2.43           5.54   \n",
       "\n",
       "          player_name  batter  pitcher     events    description  ...  \\\n",
       "0     Rocchio, Brayan  677587   622491     single  hit_into_play  ...   \n",
       "1     Rocchio, Brayan  677587   622491        NaN           foul  ...   \n",
       "2     Rocchio, Brayan  677587   622491        NaN  called_strike  ...   \n",
       "4      Hedges, Austin  595978   622491  strikeout       foul_tip  ...   \n",
       "9      Hedges, Austin  595978   622491        NaN  called_strike  ...   \n",
       "...               ...     ...      ...        ...            ...  ...   \n",
       "3578     Kwan, Steven  680757   676092        NaN  called_strike  ...   \n",
       "3582     Raleigh, Cal  663728   669212        NaN  called_strike  ...   \n",
       "3607   Freeman, Tyler  671289   675989        NaN  called_strike  ...   \n",
       "3608     Kwan, Steven  680757   622491        NaN  called_strike  ...   \n",
       "3613     Kwan, Steven  680757   642048        NaN  called_strike  ...   \n",
       "\n",
       "      post_home_score post_bat_score post_fld_score if_fielding_alignment  \\\n",
       "0                   0              4              0         Infield shade   \n",
       "1                   0              4              0              Standard   \n",
       "2                   0              4              0              Standard   \n",
       "4                   0              4              0              Standard   \n",
       "9                   0              4              0              Standard   \n",
       "...               ...            ...            ...                   ...   \n",
       "3578                2              5              2              Standard   \n",
       "3582                0              0              5         Infield shade   \n",
       "3607                0              4              0              Standard   \n",
       "3608                0              0              0              Standard   \n",
       "3613                0              4              0              Standard   \n",
       "\n",
       "     of_fielding_alignment spin_axis delta_home_win_exp  delta_run_exp  \\\n",
       "0                 Standard     239.0             -0.006          0.388   \n",
       "1                 Standard     253.0              0.000         -0.045   \n",
       "2                 Standard     238.0              0.000         -0.042   \n",
       "4                 Standard     238.0              0.008         -0.215   \n",
       "9                 Standard     239.0              0.000         -0.067   \n",
       "...                    ...       ...                ...            ...   \n",
       "3578              Standard     180.0              0.000         -0.033   \n",
       "3582              Standard     269.0              0.000         -0.033   \n",
       "3607              Standard     224.0              0.000         -0.068   \n",
       "3608              Standard     235.0              0.000         -0.033   \n",
       "3613              Standard     234.0              0.000         -0.067   \n",
       "\n",
       "     bat_speed  swing_length  \n",
       "0          NaN           NaN  \n",
       "1          NaN           NaN  \n",
       "2          NaN           NaN  \n",
       "4          NaN           NaN  \n",
       "9          NaN           NaN  \n",
       "...        ...           ...  \n",
       "3578       NaN           NaN  \n",
       "3582       NaN           NaN  \n",
       "3607       NaN           NaN  \n",
       "3608       NaN           NaN  \n",
       "3613       NaN           NaN  \n",
       "\n",
       "[281 rows x 85 columns]"
      ]
     },
     "execution_count": 12,
     "metadata": {},
     "output_type": "execute_result"
    }
   ],
   "source": [
    "pitch_swing_data[pitch_swing_data['game_pk'] == 745273]#['pitch_number']"
   ]
  },
  {
   "cell_type": "code",
   "execution_count": 16,
   "id": "45a1a545",
   "metadata": {},
   "outputs": [
    {
     "data": {
      "text/html": [
       "<div>\n",
       "<style scoped>\n",
       "    .dataframe tbody tr th:only-of-type {\n",
       "        vertical-align: middle;\n",
       "    }\n",
       "\n",
       "    .dataframe tbody tr th {\n",
       "        vertical-align: top;\n",
       "    }\n",
       "\n",
       "    .dataframe thead th {\n",
       "        text-align: right;\n",
       "    }\n",
       "</style>\n",
       "<table border=\"1\" class=\"dataframe\">\n",
       "  <thead>\n",
       "    <tr style=\"text-align: right;\">\n",
       "      <th></th>\n",
       "      <th>game_pk</th>\n",
       "      <th>pitch_number</th>\n",
       "      <th>at_bat_number</th>\n",
       "    </tr>\n",
       "  </thead>\n",
       "  <tbody>\n",
       "    <tr>\n",
       "      <th>0</th>\n",
       "      <td>745273</td>\n",
       "      <td>3</td>\n",
       "      <td>46</td>\n",
       "    </tr>\n",
       "    <tr>\n",
       "      <th>1</th>\n",
       "      <td>745273</td>\n",
       "      <td>2</td>\n",
       "      <td>46</td>\n",
       "    </tr>\n",
       "    <tr>\n",
       "      <th>2</th>\n",
       "      <td>745273</td>\n",
       "      <td>1</td>\n",
       "      <td>46</td>\n",
       "    </tr>\n",
       "    <tr>\n",
       "      <th>3</th>\n",
       "      <td>746169</td>\n",
       "      <td>4</td>\n",
       "      <td>37</td>\n",
       "    </tr>\n",
       "    <tr>\n",
       "      <th>4</th>\n",
       "      <td>745273</td>\n",
       "      <td>4</td>\n",
       "      <td>45</td>\n",
       "    </tr>\n",
       "    <tr>\n",
       "      <th>...</th>\n",
       "      <td>...</td>\n",
       "      <td>...</td>\n",
       "      <td>...</td>\n",
       "    </tr>\n",
       "    <tr>\n",
       "      <th>346245</th>\n",
       "      <td>746779</td>\n",
       "      <td>1</td>\n",
       "      <td>73</td>\n",
       "    </tr>\n",
       "    <tr>\n",
       "      <th>346246</th>\n",
       "      <td>746779</td>\n",
       "      <td>1</td>\n",
       "      <td>82</td>\n",
       "    </tr>\n",
       "    <tr>\n",
       "      <th>346247</th>\n",
       "      <td>744916</td>\n",
       "      <td>1</td>\n",
       "      <td>72</td>\n",
       "    </tr>\n",
       "    <tr>\n",
       "      <th>346248</th>\n",
       "      <td>745555</td>\n",
       "      <td>1</td>\n",
       "      <td>70</td>\n",
       "    </tr>\n",
       "    <tr>\n",
       "      <th>346249</th>\n",
       "      <td>745154</td>\n",
       "      <td>1</td>\n",
       "      <td>64</td>\n",
       "    </tr>\n",
       "  </tbody>\n",
       "</table>\n",
       "<p>346250 rows × 3 columns</p>\n",
       "</div>"
      ],
      "text/plain": [
       "        game_pk  pitch_number  at_bat_number\n",
       "0        745273             3             46\n",
       "1        745273             2             46\n",
       "2        745273             1             46\n",
       "3        746169             4             37\n",
       "4        745273             4             45\n",
       "...         ...           ...            ...\n",
       "346245   746779             1             73\n",
       "346246   746779             1             82\n",
       "346247   744916             1             72\n",
       "346248   745555             1             70\n",
       "346249   745154             1             64\n",
       "\n",
       "[346250 rows x 3 columns]"
      ]
     },
     "execution_count": 16,
     "metadata": {},
     "output_type": "execute_result"
    }
   ],
   "source": [
    "pitch_swing_data[[ 'game_pk', 'pitch_number', 'at_bat_number']].drop_duplicates()"
   ]
  },
  {
   "cell_type": "code",
   "execution_count": 17,
   "id": "c790f7f1",
   "metadata": {},
   "outputs": [
    {
     "name": "stdout",
     "output_type": "stream",
     "text": [
      "Value counts for pitch_type:\n",
      "pitch_type\n",
      "FF    108346\n",
      "SL     57024\n",
      "SI     55770\n",
      "CH     35317\n",
      "FC     28199\n",
      "CU     22573\n",
      "ST     20013\n",
      "FS     10920\n",
      "KC      5524\n",
      "SV      1159\n",
      "KN       576\n",
      "FA       288\n",
      "EP       166\n",
      "FO       102\n",
      "PO        20\n",
      "CS         3\n",
      "Name: count, dtype: int64\n",
      "\n",
      "\n",
      "Value counts for game_date:\n",
      "game_date\n",
      "2024-04-13    5031\n",
      "2024-04-20    4854\n",
      "2024-05-29    4733\n",
      "2024-04-30    4648\n",
      "2024-06-29    4621\n",
      "              ... \n",
      "2024-04-04    1872\n",
      "2024-05-16    1837\n",
      "2024-05-02    1770\n",
      "2024-04-11    1499\n",
      "2024-04-18    1096\n",
      "Name: count, Length: 90, dtype: int64\n",
      "\n",
      "\n",
      "Value counts for player_name:\n",
      "player_name\n",
      "Soto, Juan           1477\n",
      "Volpe, Anthony       1463\n",
      "Schwarber, Kyle      1436\n",
      "Judge, Aaron         1431\n",
      "Olson, Matt          1426\n",
      "                     ... \n",
      "Ornelas, Jonathan       5\n",
      "McGough, Scott          4\n",
      "Vazquez, Luis           4\n",
      "Castillo, Luis          3\n",
      "Bañuelos, David         2\n",
      "Name: count, Length: 559, dtype: int64\n",
      "\n",
      "\n",
      "Value counts for events:\n",
      "events\n",
      "field_out                       36512\n",
      "strikeout                       19716\n",
      "single                          12643\n",
      "walk                             7042\n",
      "double                           3812\n",
      "home_run                         2532\n",
      "force_out                        1716\n",
      "grounded_into_double_play        1614\n",
      "hit_by_pitch                     1012\n",
      "sac_fly                           621\n",
      "field_error                       570\n",
      "triple                            353\n",
      "sac_bunt                          225\n",
      "fielders_choice                   176\n",
      "fielders_choice_out               163\n",
      "double_play                       161\n",
      "caught_stealing_2b                131\n",
      "strikeout_double_play              57\n",
      "catcher_interf                     55\n",
      "other_out                           9\n",
      "caught_stealing_home                6\n",
      "caught_stealing_3b                  6\n",
      "pickoff_1b                          4\n",
      "stolen_base_2b                      2\n",
      "sac_fly_double_play                 2\n",
      "pickoff_caught_stealing_home        1\n",
      "pickoff_caught_stealing_3b          1\n",
      "pickoff_3b                          1\n",
      "triple_play                         1\n",
      "Name: count, dtype: int64\n",
      "\n",
      "\n",
      "Value counts for description:\n",
      "description\n",
      "ball                       115169\n",
      "foul                        62378\n",
      "hit_into_play               61105\n",
      "called_strike               57244\n",
      "swinging_strike             35799\n",
      "blocked_ball                 7308\n",
      "foul_tip                     3654\n",
      "swinging_strike_blocked      1877\n",
      "hit_by_pitch                 1012\n",
      "foul_bunt                     586\n",
      "missed_bunt                    94\n",
      "pitchout                       20\n",
      "bunt_foul_tip                   4\n",
      "Name: count, dtype: int64\n",
      "\n",
      "\n",
      "Value counts for des:\n",
      "des\n",
      "Bryan De La Cruz strikes out swinging.                                                                                                 365\n",
      "Ezequiel Tovar strikes out swinging.                                                                                                   359\n",
      "Cal Raleigh strikes out swinging.                                                                                                      357\n",
      "Kyle Schwarber strikes out swinging.                                                                                                   348\n",
      "Matt Olson strikes out swinging.                                                                                                       335\n",
      "                                                                                                                                      ... \n",
      "Edouard Julien doubles (5) on a sharp fly ball to left fielder Taylor Ward.   Austin Martin scores.    Alex Kirilloff scores.            1\n",
      "Umpire reviewed (home run), call on the field was upheld: Blaze Alexander doubles (5) on a fly ball to right fielder Mitch Haniger.      1\n",
      "Vladimir Guerrero Jr.  doubles (4) on a sharp line drive to left fielder Chris Taylor.                                                   1\n",
      "Max Kepler grounds out to first baseman Michael Toglia.   Royce Lewis to 2nd.                                                            1\n",
      "J.P. Crawford singles on a line drive to center fielder Byron Buxton.                                                                    1\n",
      "Name: count, Length: 62167, dtype: int64\n",
      "\n",
      "\n",
      "Value counts for stand:\n",
      "stand\n",
      "R    200003\n",
      "L    146247\n",
      "Name: count, dtype: int64\n",
      "\n",
      "\n",
      "Value counts for p_throws:\n",
      "p_throws\n",
      "R    252561\n",
      "L     93689\n",
      "Name: count, dtype: int64\n",
      "\n",
      "\n",
      "Value counts for home_team:\n",
      "home_team\n",
      "LAA    12993\n",
      "SF     12915\n",
      "TB     12662\n",
      "NYM    12596\n",
      "BOS    12539\n",
      "PHI    12353\n",
      "KC     12262\n",
      "STL    12154\n",
      "TOR    12068\n",
      "BAL    11963\n",
      "DET    11960\n",
      "CWS    11923\n",
      "COL    11878\n",
      "MIL    11830\n",
      "SD     11687\n",
      "ATL    11584\n",
      "CIN    11542\n",
      "CHC    11466\n",
      "NYY    11450\n",
      "MIN    11388\n",
      "PIT    11214\n",
      "AZ     11130\n",
      "MIA    10971\n",
      "HOU    10964\n",
      "OAK    10466\n",
      "SEA    10455\n",
      "TEX    10158\n",
      "LAD     9938\n",
      "CLE     9927\n",
      "WSH     9814\n",
      "Name: count, dtype: int64\n",
      "\n",
      "\n",
      "Value counts for away_team:\n",
      "away_team\n",
      "LAD    12938\n",
      "NYY    12921\n",
      "TEX    12906\n",
      "OAK    12763\n",
      "SEA    12693\n",
      "WSH    12482\n",
      "CHC    12291\n",
      "MIN    12100\n",
      "CLE    12036\n",
      "CWS    11920\n",
      "MIL    11918\n",
      "SD     11764\n",
      "AZ     11717\n",
      "HOU    11599\n",
      "CIN    11556\n",
      "PIT    11406\n",
      "BAL    11310\n",
      "MIA    11233\n",
      "DET    11201\n",
      "COL    11163\n",
      "KC     10906\n",
      "PHI    10870\n",
      "ATL    10826\n",
      "TB     10737\n",
      "SF     10729\n",
      "NYM    10673\n",
      "TOR    10622\n",
      "STL    10422\n",
      "BOS    10375\n",
      "LAA    10173\n",
      "Name: count, dtype: int64\n",
      "\n",
      "\n",
      "Value counts for type:\n",
      "type\n",
      "S    161640\n",
      "B    123509\n",
      "X     61101\n",
      "Name: count, dtype: int64\n",
      "\n",
      "\n",
      "Value counts for bb_type:\n",
      "bb_type\n",
      "ground_ball    26228\n",
      "fly_ball       16145\n",
      "line_drive     14468\n",
      "popup           4260\n",
      "Name: count, dtype: int64\n",
      "\n",
      "\n",
      "Value counts for inning_topbot:\n",
      "inning_topbot\n",
      "Top    176285\n",
      "Bot    169965\n",
      "Name: count, dtype: int64\n",
      "\n",
      "\n",
      "Value counts for pitch_name:\n",
      "pitch_name\n",
      "4-Seam Fastball    108346\n",
      "Slider              57024\n",
      "Sinker              55770\n",
      "Changeup            35317\n",
      "Cutter              28199\n",
      "Curveball           22573\n",
      "Sweeper             20013\n",
      "Split-Finger        10920\n",
      "Knuckle Curve        5524\n",
      "Slurve               1159\n",
      "Knuckleball           576\n",
      "Other                 288\n",
      "Eephus                166\n",
      "Forkball              102\n",
      "Pitch Out              20\n",
      "Slow Curve              3\n",
      "Name: count, dtype: int64\n",
      "\n",
      "\n",
      "Value counts for if_fielding_alignment:\n",
      "if_fielding_alignment\n",
      "Standard         237748\n",
      "Infield shade     82085\n",
      "Strategic         24152\n",
      "Name: count, dtype: int64\n",
      "\n",
      "\n",
      "Value counts for of_fielding_alignment:\n",
      "of_fielding_alignment\n",
      "Standard     331474\n",
      "Strategic     12511\n",
      "Name: count, dtype: int64\n",
      "\n",
      "\n"
     ]
    }
   ],
   "source": [
    "# Identify categorical columns\n",
    "categorical_columns = pitch_swing_data.select_dtypes(include=['object']).columns\n",
    "\n",
    "# Print value counts for each categorical column\n",
    "for col in categorical_columns:\n",
    "    print(f\"Value counts for {col}:\")\n",
    "    print(pitch_swing_data[col].value_counts())\n",
    "    print(\"\\n\")"
   ]
  },
  {
   "cell_type": "code",
   "execution_count": 18,
   "id": "ee275f41",
   "metadata": {},
   "outputs": [
    {
     "data": {
      "image/png": "[encoded data removed]",
      "text/plain": [
       "<Figure size 2000x1500 with 72 Axes>"
      ]
     },
     "metadata": {},
     "output_type": "display_data"
    }
   ],
   "source": [
    "# Select continuous variables (numeric columns)\n",
    "continuous_columns = pitch_swing_data.select_dtypes(include=['float64', 'int64']).columns\n",
    "\n",
    "# Plot histograms for each continuous variable\n",
    "pitch_swing_data[continuous_columns].hist(bins=50, figsize=(20, 15))\n",
    "plt.tight_layout()\n",
    "plt.show()"
   ]
  },
  {
   "cell_type": "code",
   "execution_count": 33,
   "id": "6d12a85c",
   "metadata": {},
   "outputs": [
    {
     "data": {
      "image/png": "[encoded data removed]",
      "text/plain": [
       "<Figure size 1200x600 with 1 Axes>"
      ]
     },
     "metadata": {},
     "output_type": "display_data"
    },
    {
     "data": {
      "image/png": "[encoded data removed]",
      "text/plain": [
       "<Figure size 1200x600 with 1 Axes>"
      ]
     },
     "metadata": {},
     "output_type": "display_data"
    }
   ],
   "source": [
    "# Plot the relationship between of_fielding_alignment and bat_speed\n",
    "plt.figure(figsize=(12, 6))\n",
    "sns.boxplot(x='of_fielding_alignment', y='bat_speed', data=filtered_data)\n",
    "plt.title('Relationship between Outfield Fielding Alignment and Bat Speed')\n",
    "plt.xlabel('Outfield Fielding Alignment')\n",
    "plt.ylabel('Bat Speed')\n",
    "plt.xticks(rotation=45)\n",
    "plt.show()\n",
    "\n",
    "# Plot the relationship between of_fielding_alignment and swing_length\n",
    "plt.figure(figsize=(12, 6))\n",
    "sns.boxplot(x='of_fielding_alignment', y='swing_length', data=filtered_data)\n",
    "plt.title('Relationship between Outfield Fielding Alignment and Swing Length')\n",
    "plt.xlabel('Outfield Fielding Alignment')\n",
    "plt.ylabel('Swing Length')\n",
    "plt.xticks(rotation=45)\n",
    "plt.show()"
   ]
  },
  {
   "cell_type": "code",
   "execution_count": 32,
   "id": "39f44e9e",
   "metadata": {},
   "outputs": [
    {
     "data": {
      "image/png": "[encoded data removed]",
      "text/plain": [
       "<Figure size 1200x600 with 1 Axes>"
      ]
     },
     "metadata": {},
     "output_type": "display_data"
    }
   ],
   "source": [
    "# Drop rows with missing values in 'if_fielding_alignment' or 'bat_speed'\n",
    "filtered_data = pitch_swing_data.dropna(subset=['if_fielding_alignment', 'bat_speed'])\n",
    "\n",
    "# Plot the relationship\n",
    "plt.figure(figsize=(12, 6))\n",
    "sns.boxplot(x='if_fielding_alignment', y='swing_length', data=filtered_data)\n",
    "plt.title('Relationship between Infield Fielding Alignment and Bat Speed')\n",
    "plt.xlabel('Infield Fielding Alignment')\n",
    "plt.ylabel('Bat Speed')\n",
    "plt.xticks(rotation=45)\n",
    "plt.show()"
   ]
  },
  {
   "cell_type": "code",
   "execution_count": 30,
   "id": "d6e10980",
   "metadata": {},
   "outputs": [
    {
     "data": {
      "image/png": "[encoded data removed]",
      "text/plain": [
       "<Figure size 1200x600 with 1 Axes>"
      ]
     },
     "metadata": {},
     "output_type": "display_data"
    }
   ],
   "source": [
    "# Plot the relationship\n",
    "plt.figure(figsize=(12, 6))\n",
    "sns.boxplot(x='if_fielding_alignment', y='bat_speed', data=filtered_data)\n",
    "plt.title('Relationship between Infield Fielding Alignment and Bat Speed')\n",
    "plt.xlabel('Infield Fielding Alignment')\n",
    "plt.ylabel('Bat Speed')\n",
    "plt.xticks(rotation=45)\n",
    "plt.show()"
   ]
  },
  {
   "cell_type": "code",
   "execution_count": 27,
   "id": "2ab20516",
   "metadata": {},
   "outputs": [
    {
     "data": {
      "text/plain": [
       "balls\n",
       "0    158260\n",
       "1    102173\n",
       "2     57707\n",
       "3     28110\n",
       "Name: count, dtype: int64"
      ]
     },
     "execution_count": 27,
     "metadata": {},
     "output_type": "execute_result"
    }
   ],
   "source": [
    "pitch_swing_data['balls'].value_counts()"
   ]
  },
  {
   "cell_type": "code",
   "execution_count": 26,
   "id": "f72ec755",
   "metadata": {},
   "outputs": [
    {
     "data": {
      "text/plain": [
       "hit_location\n",
       "2.0    20520\n",
       "8.0    10696\n",
       "9.0     9834\n",
       "7.0     9551\n",
       "6.0     7551\n",
       "4.0     6992\n",
       "5.0     6538\n",
       "3.0     4510\n",
       "1.0     2170\n",
       "Name: count, dtype: int64"
      ]
     },
     "execution_count": 26,
     "metadata": {},
     "output_type": "execute_result"
    }
   ],
   "source": [
    "pitch_swing_data['hit_location'].value_counts()"
   ]
  },
  {
   "cell_type": "code",
   "execution_count": 25,
   "id": "89c66414",
   "metadata": {},
   "outputs": [
    {
     "data": {
      "text/plain": [
       "zone\n",
       "14.0    66145\n",
       "13.0    42739\n",
       "11.0    35822\n",
       "12.0    28753\n",
       "5.0     26187\n",
       "8.0     22494\n",
       "6.0     21387\n",
       "4.0     20401\n",
       "9.0     20097\n",
       "2.0     17517\n",
       "7.0     16550\n",
       "1.0     14514\n",
       "3.0     13392\n",
       "Name: count, dtype: int64"
      ]
     },
     "execution_count": 25,
     "metadata": {},
     "output_type": "execute_result"
    }
   ],
   "source": [
    "pitch_swing_data['zone'].value_counts()"
   ]
  },
  {
   "cell_type": "code",
   "execution_count": 22,
   "id": "3219170f",
   "metadata": {},
   "outputs": [
    {
     "data": {
      "text/plain": [
       "[('release_speed', 'vy0', -0.9997765218350713),\n",
       " ('release_speed', 'ay', 0.8138175401349784),\n",
       " ('release_speed', 'effective_speed', 0.9907109804034261),\n",
       " ('release_pos_x', 'vx0', -0.9069052978158635),\n",
       " ('pitcher', 'pitcher_1', 1.0),\n",
       " ('balls', 'pitch_number', 0.8123687506125957),\n",
       " ('pfx_x', 'ax', 0.981743334771749),\n",
       " ('pfx_z', 'az', 0.9857946335002246),\n",
       " ('inning', 'at_bat_number', 0.9753514688953183),\n",
       " ('hc_y', 'hit_distance_sc', -0.8713273940124494),\n",
       " ('fielder_2', 'fielder_2_1', 1.0),\n",
       " ('vy0', 'ay', -0.8090383851224447),\n",
       " ('vy0', 'effective_speed', -0.9912151155821729),\n",
       " ('sz_top', 'sz_bot', 0.8101683327844285),\n",
       " ('release_extension', 'release_pos_y', -0.9980363598786411),\n",
       " ('estimated_ba_using_speedangle',\n",
       "  'estimated_woba_using_speedangle',\n",
       "  0.9026033223329534),\n",
       " ('woba_value', 'delta_run_exp', 0.8790751752603889),\n",
       " ('home_score', 'post_home_score', 0.9980393323011438),\n",
       " ('away_score', 'post_away_score', 0.9982780496727195),\n",
       " ('bat_score', 'post_bat_score', 0.9962377807936663),\n",
       " ('fld_score', 'post_fld_score', 1.0)]"
      ]
     },
     "execution_count": 22,
     "metadata": {},
     "output_type": "execute_result"
    }
   ],
   "source": [
    "import seaborn as sns\n",
    "\n",
    "# Calculate the correlation matrix\n",
    "corr_matrix = pitch_swing_data[continuous_columns].corr()\n",
    "\n",
    "high_corr_pairs = [(corr_matrix.columns[i], corr_matrix.columns[j], corr_matrix.iloc[i, j])\n",
    "                   for i in range(len(corr_matrix.columns)) \n",
    "                   for j in range(i+1, len(corr_matrix.columns)) \n",
    "                   if abs(corr_matrix.iloc[i, j]) > 0.8]\n",
    "\n",
    "high_corr_pairs\n"
   ]
  },
  {
   "cell_type": "code",
   "execution_count": null,
   "id": "5f09ff8d",
   "metadata": {},
   "outputs": [],
   "source": []
  },
  {
   "cell_type": "code",
   "execution_count": 20,
   "id": "2ba7ad38-5cfd-42aa-ae7a-590f433f60f4",
   "metadata": {
    "tags": []
   },
   "outputs": [
    {
     "data": {
      "text/html": [
       "<div>\n",
       "<style scoped>\n",
       "    .dataframe tbody tr th:only-of-type {\n",
       "        vertical-align: middle;\n",
       "    }\n",
       "\n",
       "    .dataframe tbody tr th {\n",
       "        vertical-align: top;\n",
       "    }\n",
       "\n",
       "    .dataframe thead th {\n",
       "        text-align: right;\n",
       "    }\n",
       "</style>\n",
       "<table border=\"1\" class=\"dataframe\">\n",
       "  <thead>\n",
       "    <tr style=\"text-align: right;\">\n",
       "      <th></th>\n",
       "      <th>batter</th>\n",
       "      <th>player_name</th>\n",
       "    </tr>\n",
       "  </thead>\n",
       "  <tbody>\n",
       "    <tr>\n",
       "      <th>0</th>\n",
       "      <td>677587</td>\n",
       "      <td>Rocchio, Brayan</td>\n",
       "    </tr>\n",
       "    <tr>\n",
       "      <th>3</th>\n",
       "      <td>660271</td>\n",
       "      <td>Ohtani, Shohei</td>\n",
       "    </tr>\n",
       "    <tr>\n",
       "      <th>4</th>\n",
       "      <td>595978</td>\n",
       "      <td>Hedges, Austin</td>\n",
       "    </tr>\n",
       "    <tr>\n",
       "      <th>5</th>\n",
       "      <td>671213</td>\n",
       "      <td>Casas, Triston</td>\n",
       "    </tr>\n",
       "    <tr>\n",
       "      <th>6</th>\n",
       "      <td>519203</td>\n",
       "      <td>Rizzo, Anthony</td>\n",
       "    </tr>\n",
       "    <tr>\n",
       "      <th>...</th>\n",
       "      <td>...</td>\n",
       "      <td>...</td>\n",
       "    </tr>\n",
       "    <tr>\n",
       "      <th>337127</th>\n",
       "      <td>677588</td>\n",
       "      <td>Tena, José</td>\n",
       "    </tr>\n",
       "    <tr>\n",
       "      <th>337939</th>\n",
       "      <td>642851</td>\n",
       "      <td>Wynns, Austin</td>\n",
       "    </tr>\n",
       "    <tr>\n",
       "      <th>340795</th>\n",
       "      <td>668845</td>\n",
       "      <td>Schunk, Aaron</td>\n",
       "    </tr>\n",
       "    <tr>\n",
       "      <th>342986</th>\n",
       "      <td>622491</td>\n",
       "      <td>Castillo, Luis</td>\n",
       "    </tr>\n",
       "    <tr>\n",
       "      <th>343609</th>\n",
       "      <td>592325</td>\n",
       "      <td>Gamel, Ben</td>\n",
       "    </tr>\n",
       "  </tbody>\n",
       "</table>\n",
       "<p>559 rows × 2 columns</p>\n",
       "</div>"
      ],
      "text/plain": [
       "        batter      player_name\n",
       "0       677587  Rocchio, Brayan\n",
       "3       660271   Ohtani, Shohei\n",
       "4       595978   Hedges, Austin\n",
       "5       671213   Casas, Triston\n",
       "6       519203   Rizzo, Anthony\n",
       "...        ...              ...\n",
       "337127  677588       Tena, José\n",
       "337939  642851    Wynns, Austin\n",
       "340795  668845    Schunk, Aaron\n",
       "342986  622491   Castillo, Luis\n",
       "343609  592325       Gamel, Ben\n",
       "\n",
       "[559 rows x 2 columns]"
      ]
     },
     "execution_count": 20,
     "metadata": {},
     "output_type": "execute_result"
    }
   ],
   "source": [
    "pitch_swing_data[['batter','player_name']].drop_duplicates()"
   ]
  },
  {
   "cell_type": "code",
   "execution_count": 21,
   "id": "debabcdf-e3fa-4080-9b1d-1d3a39ba8438",
   "metadata": {
    "tags": []
   },
   "outputs": [
    {
     "data": {
      "text/html": [
       "<div>\n",
       "<style scoped>\n",
       "    .dataframe tbody tr th:only-of-type {\n",
       "        vertical-align: middle;\n",
       "    }\n",
       "\n",
       "    .dataframe tbody tr th {\n",
       "        vertical-align: top;\n",
       "    }\n",
       "\n",
       "    .dataframe thead th {\n",
       "        text-align: right;\n",
       "    }\n",
       "</style>\n",
       "<table border=\"1\" class=\"dataframe\">\n",
       "  <thead>\n",
       "    <tr style=\"text-align: right;\">\n",
       "      <th></th>\n",
       "      <th>player_name</th>\n",
       "    </tr>\n",
       "  </thead>\n",
       "  <tbody>\n",
       "    <tr>\n",
       "      <th>0</th>\n",
       "      <td>Rocchio, Brayan</td>\n",
       "    </tr>\n",
       "    <tr>\n",
       "      <th>3</th>\n",
       "      <td>Ohtani, Shohei</td>\n",
       "    </tr>\n",
       "    <tr>\n",
       "      <th>4</th>\n",
       "      <td>Hedges, Austin</td>\n",
       "    </tr>\n",
       "    <tr>\n",
       "      <th>5</th>\n",
       "      <td>Casas, Triston</td>\n",
       "    </tr>\n",
       "    <tr>\n",
       "      <th>6</th>\n",
       "      <td>Rizzo, Anthony</td>\n",
       "    </tr>\n",
       "    <tr>\n",
       "      <th>...</th>\n",
       "      <td>...</td>\n",
       "    </tr>\n",
       "    <tr>\n",
       "      <th>337127</th>\n",
       "      <td>Tena, José</td>\n",
       "    </tr>\n",
       "    <tr>\n",
       "      <th>337939</th>\n",
       "      <td>Wynns, Austin</td>\n",
       "    </tr>\n",
       "    <tr>\n",
       "      <th>340795</th>\n",
       "      <td>Schunk, Aaron</td>\n",
       "    </tr>\n",
       "    <tr>\n",
       "      <th>342986</th>\n",
       "      <td>Castillo, Luis</td>\n",
       "    </tr>\n",
       "    <tr>\n",
       "      <th>343609</th>\n",
       "      <td>Gamel, Ben</td>\n",
       "    </tr>\n",
       "  </tbody>\n",
       "</table>\n",
       "<p>559 rows × 1 columns</p>\n",
       "</div>"
      ],
      "text/plain": [
       "            player_name\n",
       "0       Rocchio, Brayan\n",
       "3        Ohtani, Shohei\n",
       "4        Hedges, Austin\n",
       "5        Casas, Triston\n",
       "6        Rizzo, Anthony\n",
       "...                 ...\n",
       "337127       Tena, José\n",
       "337939    Wynns, Austin\n",
       "340795    Schunk, Aaron\n",
       "342986   Castillo, Luis\n",
       "343609       Gamel, Ben\n",
       "\n",
       "[559 rows x 1 columns]"
      ]
     },
     "execution_count": 21,
     "metadata": {},
     "output_type": "execute_result"
    }
   ],
   "source": [
    "pitch_swing_data[['player_name']].drop_duplicates()"
   ]
  },
  {
   "cell_type": "code",
   "execution_count": 15,
   "id": "97a4fbe3-d2b8-434a-9bda-decbd4d34b3c",
   "metadata": {
    "tags": []
   },
   "outputs": [
    {
     "data": {
      "text/html": [
       "<div>\n",
       "<style scoped>\n",
       "    .dataframe tbody tr th:only-of-type {\n",
       "        vertical-align: middle;\n",
       "    }\n",
       "\n",
       "    .dataframe tbody tr th {\n",
       "        vertical-align: top;\n",
       "    }\n",
       "\n",
       "    .dataframe thead th {\n",
       "        text-align: right;\n",
       "    }\n",
       "</style>\n",
       "<table border=\"1\" class=\"dataframe\">\n",
       "  <thead>\n",
       "    <tr style=\"text-align: right;\">\n",
       "      <th></th>\n",
       "      <th>pitcher</th>\n",
       "    </tr>\n",
       "  </thead>\n",
       "  <tbody>\n",
       "    <tr>\n",
       "      <th>0</th>\n",
       "      <td>622491</td>\n",
       "    </tr>\n",
       "    <tr>\n",
       "      <th>3</th>\n",
       "      <td>657277</td>\n",
       "    </tr>\n",
       "    <tr>\n",
       "      <th>5</th>\n",
       "      <td>622072</td>\n",
       "    </tr>\n",
       "    <tr>\n",
       "      <th>6</th>\n",
       "      <td>668678</td>\n",
       "    </tr>\n",
       "    <tr>\n",
       "      <th>18</th>\n",
       "      <td>666200</td>\n",
       "    </tr>\n",
       "    <tr>\n",
       "      <th>...</th>\n",
       "      <td>...</td>\n",
       "    </tr>\n",
       "    <tr>\n",
       "      <th>341063</th>\n",
       "      <td>642086</td>\n",
       "    </tr>\n",
       "    <tr>\n",
       "      <th>343415</th>\n",
       "      <td>681806</td>\n",
       "    </tr>\n",
       "    <tr>\n",
       "      <th>343673</th>\n",
       "      <td>670036</td>\n",
       "    </tr>\n",
       "    <tr>\n",
       "      <th>343729</th>\n",
       "      <td>640454</td>\n",
       "    </tr>\n",
       "    <tr>\n",
       "      <th>343849</th>\n",
       "      <td>681799</td>\n",
       "    </tr>\n",
       "  </tbody>\n",
       "</table>\n",
       "<p>689 rows × 1 columns</p>\n",
       "</div>"
      ],
      "text/plain": [
       "        pitcher\n",
       "0        622491\n",
       "3        657277\n",
       "5        622072\n",
       "6        668678\n",
       "18       666200\n",
       "...         ...\n",
       "341063   642086\n",
       "343415   681806\n",
       "343673   670036\n",
       "343729   640454\n",
       "343849   681799\n",
       "\n",
       "[689 rows x 1 columns]"
      ]
     },
     "execution_count": 15,
     "metadata": {},
     "output_type": "execute_result"
    }
   ],
   "source": [
    "pitch_swing_data[['pitcher']].drop_duplicates()"
   ]
  },
  {
   "cell_type": "code",
   "execution_count": 48,
   "id": "bc27a2a8-82b8-4c56-ae2c-c168a9179e2a",
   "metadata": {
    "tags": []
   },
   "outputs": [
    {
     "data": {
      "text/html": [
       "<div>\n",
       "<style scoped>\n",
       "    .dataframe tbody tr th:only-of-type {\n",
       "        vertical-align: middle;\n",
       "    }\n",
       "\n",
       "    .dataframe tbody tr th {\n",
       "        vertical-align: top;\n",
       "    }\n",
       "\n",
       "    .dataframe thead th {\n",
       "        text-align: right;\n",
       "    }\n",
       "</style>\n",
       "<table border=\"1\" class=\"dataframe\">\n",
       "  <thead>\n",
       "    <tr style=\"text-align: right;\">\n",
       "      <th></th>\n",
       "      <th>batter</th>\n",
       "      <th>pitcher</th>\n",
       "      <th>player_name</th>\n",
       "    </tr>\n",
       "  </thead>\n",
       "  <tbody>\n",
       "    <tr>\n",
       "      <th>0</th>\n",
       "      <td>677587</td>\n",
       "      <td>622491</td>\n",
       "      <td>Rocchio, Brayan</td>\n",
       "    </tr>\n",
       "    <tr>\n",
       "      <th>3</th>\n",
       "      <td>660271</td>\n",
       "      <td>657277</td>\n",
       "      <td>Ohtani, Shohei</td>\n",
       "    </tr>\n",
       "    <tr>\n",
       "      <th>4</th>\n",
       "      <td>595978</td>\n",
       "      <td>622491</td>\n",
       "      <td>Hedges, Austin</td>\n",
       "    </tr>\n",
       "    <tr>\n",
       "      <th>5</th>\n",
       "      <td>671213</td>\n",
       "      <td>622072</td>\n",
       "      <td>Casas, Triston</td>\n",
       "    </tr>\n",
       "    <tr>\n",
       "      <th>6</th>\n",
       "      <td>519203</td>\n",
       "      <td>668678</td>\n",
       "      <td>Rizzo, Anthony</td>\n",
       "    </tr>\n",
       "    <tr>\n",
       "      <th>...</th>\n",
       "      <td>...</td>\n",
       "      <td>...</td>\n",
       "      <td>...</td>\n",
       "    </tr>\n",
       "    <tr>\n",
       "      <th>346110</th>\n",
       "      <td>669394</td>\n",
       "      <td>622554</td>\n",
       "      <td>Burger, Jake</td>\n",
       "    </tr>\n",
       "    <tr>\n",
       "      <th>346113</th>\n",
       "      <td>668731</td>\n",
       "      <td>519043</td>\n",
       "      <td>Baddoo, Akil</td>\n",
       "    </tr>\n",
       "    <tr>\n",
       "      <th>346124</th>\n",
       "      <td>663550</td>\n",
       "      <td>493603</td>\n",
       "      <td>Cabbage, Trey</td>\n",
       "    </tr>\n",
       "    <tr>\n",
       "      <th>346151</th>\n",
       "      <td>621466</td>\n",
       "      <td>687911</td>\n",
       "      <td>Stewart, DJ</td>\n",
       "    </tr>\n",
       "    <tr>\n",
       "      <th>346170</th>\n",
       "      <td>678662</td>\n",
       "      <td>656629</td>\n",
       "      <td>Tovar, Ezequiel</td>\n",
       "    </tr>\n",
       "  </tbody>\n",
       "</table>\n",
       "<p>48283 rows × 3 columns</p>\n",
       "</div>"
      ],
      "text/plain": [
       "        batter  pitcher      player_name\n",
       "0       677587   622491  Rocchio, Brayan\n",
       "3       660271   657277   Ohtani, Shohei\n",
       "4       595978   622491   Hedges, Austin\n",
       "5       671213   622072   Casas, Triston\n",
       "6       519203   668678   Rizzo, Anthony\n",
       "...        ...      ...              ...\n",
       "346110  669394   622554     Burger, Jake\n",
       "346113  668731   519043     Baddoo, Akil\n",
       "346124  663550   493603    Cabbage, Trey\n",
       "346151  621466   687911      Stewart, DJ\n",
       "346170  678662   656629  Tovar, Ezequiel\n",
       "\n",
       "[48283 rows x 3 columns]"
      ]
     },
     "execution_count": 48,
     "metadata": {},
     "output_type": "execute_result"
    }
   ],
   "source": [
    "pitch_swing_data[['batter', 'pitcher', 'player_name']].drop_duplicates()"
   ]
  },
  {
   "cell_type": "code",
   "execution_count": 43,
   "id": "f7a9d5cb-8ed8-467f-8d63-a7cf91aa6c44",
   "metadata": {
    "tags": []
   },
   "outputs": [
    {
     "data": {
      "text/plain": [
       "0         664034\n",
       "1         664034\n",
       "2         664034\n",
       "3         527038\n",
       "4         664034\n",
       "           ...  \n",
       "346245    683734\n",
       "346246    669911\n",
       "346247    687462\n",
       "346248    669394\n",
       "346249    502671\n",
       "Name: fielder_3, Length: 346250, dtype: int64"
      ]
     },
     "execution_count": 43,
     "metadata": {},
     "output_type": "execute_result"
    }
   ],
   "source": [
    "pitch_swing_data['fielder_3']"
   ]
  },
  {
   "cell_type": "code",
   "execution_count": 7,
   "id": "834a5fb7-5b10-403d-b42d-4b57b6f91795",
   "metadata": {
    "tags": []
   },
   "outputs": [
    {
     "data": {
      "text/plain": [
       "pitch_type\n",
       "FF    108346\n",
       "SL     57024\n",
       "SI     55770\n",
       "CH     35317\n",
       "FC     28199\n",
       "CU     22573\n",
       "ST     20013\n",
       "FS     10920\n",
       "KC      5524\n",
       "SV      1159\n",
       "KN       576\n",
       "FA       288\n",
       "EP       166\n",
       "FO       102\n",
       "PO        20\n",
       "CS         3\n",
       "Name: count, dtype: int64"
      ]
     },
     "execution_count": 7,
     "metadata": {},
     "output_type": "execute_result"
    }
   ],
   "source": [
    "pitch_swing_data['pitch_type'].value_counts()"
   ]
  },
  {
   "cell_type": "code",
   "execution_count": 10,
   "id": "fab7e855-a9d1-412e-8cb0-e31320f4221a",
   "metadata": {},
   "outputs": [
    {
     "data": {
      "text/plain": [
       "('2024-04-02', '2024-06-30')"
      ]
     },
     "execution_count": 10,
     "metadata": {},
     "output_type": "execute_result"
    }
   ],
   "source": [
    "pitch_swing_data['game_date'].min(), pitch_swing_data['game_date'].max()"
   ]
  },
  {
   "cell_type": "code",
   "execution_count": null,
   "id": "57ca3d6e-8250-4d66-9e79-6920b3432d4d",
   "metadata": {
    "tags": []
   },
   "outputs": [],
   "source": []
  },
  {
   "cell_type": "code",
   "execution_count": 18,
   "id": "a6b0db6d-74ce-4300-a118-d036309f61cb",
   "metadata": {
    "tags": []
   },
   "outputs": [
    {
     "data": {
      "text/plain": [
       "<Axes: >"
      ]
     },
     "execution_count": 18,
     "metadata": {},
     "output_type": "execute_result"
    },
    {
     "data": {
      "image/png": "[encoded data removed]",
      "text/plain": [
       "<Figure size 640x480 with 1 Axes>"
      ]
     },
     "metadata": {},
     "output_type": "display_data"
    }
   ],
   "source": [
    "pitch_swing_data['release_speed'].hist(bins = 100)"
   ]
  },
  {
   "cell_type": "code",
   "execution_count": 20,
   "id": "86de9179-9c42-4b65-8aca-ff1fcfbf9d79",
   "metadata": {
    "tags": []
   },
   "outputs": [
    {
     "data": {
      "text/plain": [
       "<Axes: >"
      ]
     },
     "execution_count": 20,
     "metadata": {},
     "output_type": "execute_result"
    },
    {
     "data": {
      "image/png": "[encoded data removed]",
      "text/plain": [
       "<Figure size 640x480 with 1 Axes>"
      ]
     },
     "metadata": {},
     "output_type": "display_data"
    }
   ],
   "source": [
    "pitch_swing_data['release_pos_x'].hist(bins = 100)"
   ]
  },
  {
   "cell_type": "code",
   "execution_count": 21,
   "id": "a7c08640-dcd0-4ac9-9400-a42161bf0f32",
   "metadata": {
    "tags": []
   },
   "outputs": [
    {
     "data": {
      "text/plain": [
       "<Axes: >"
      ]
     },
     "execution_count": 21,
     "metadata": {},
     "output_type": "execute_result"
    },
    {
     "data": {
      "image/png": "[encoded data removed]",
      "text/plain": [
       "<Figure size 640x480 with 1 Axes>"
      ]
     },
     "metadata": {},
     "output_type": "display_data"
    }
   ],
   "source": [
    "pitch_swing_data['release_pos_z'].hist(bins = 100)"
   ]
  },
  {
   "cell_type": "code",
   "execution_count": 22,
   "id": "3809965b-e6d4-4913-948e-26b1b18cd5e8",
   "metadata": {
    "tags": []
   },
   "outputs": [
    {
     "data": {
      "text/plain": [
       "559"
      ]
     },
     "execution_count": 22,
     "metadata": {},
     "output_type": "execute_result"
    }
   ],
   "source": [
    "pitch_swing_data['player_name'].nunique()"
   ]
  },
  {
   "cell_type": "code",
   "execution_count": 23,
   "id": "a2f372ab-bbfb-4694-8531-79716677638b",
   "metadata": {
    "tags": []
   },
   "outputs": [
    {
     "data": {
      "text/plain": [
       "559"
      ]
     },
     "execution_count": 23,
     "metadata": {},
     "output_type": "execute_result"
    }
   ],
   "source": [
    "pitch_swing_data['batter'].nunique()"
   ]
  },
  {
   "cell_type": "code",
   "execution_count": 24,
   "id": "5ae9dacd-ae0a-439d-a81e-51b5b1253002",
   "metadata": {
    "tags": []
   },
   "outputs": [
    {
     "data": {
      "text/plain": [
       "689"
      ]
     },
     "execution_count": 24,
     "metadata": {},
     "output_type": "execute_result"
    }
   ],
   "source": [
    "pitch_swing_data['pitcher'].nunique()"
   ]
  },
  {
   "cell_type": "code",
   "execution_count": 26,
   "id": "bf06ea15-cad4-40d3-92ac-b1ad5ada4cbc",
   "metadata": {
    "tags": []
   },
   "outputs": [
    {
     "data": {
      "text/plain": [
       "events\n",
       "field_out                       36512\n",
       "strikeout                       19716\n",
       "single                          12643\n",
       "walk                             7042\n",
       "double                           3812\n",
       "home_run                         2532\n",
       "force_out                        1716\n",
       "grounded_into_double_play        1614\n",
       "hit_by_pitch                     1012\n",
       "sac_fly                           621\n",
       "field_error                       570\n",
       "triple                            353\n",
       "sac_bunt                          225\n",
       "fielders_choice                   176\n",
       "fielders_choice_out               163\n",
       "double_play                       161\n",
       "caught_stealing_2b                131\n",
       "strikeout_double_play              57\n",
       "catcher_interf                     55\n",
       "other_out                           9\n",
       "caught_stealing_home                6\n",
       "caught_stealing_3b                  6\n",
       "pickoff_1b                          4\n",
       "stolen_base_2b                      2\n",
       "sac_fly_double_play                 2\n",
       "pickoff_caught_stealing_3b          1\n",
       "pickoff_caught_stealing_home        1\n",
       "pickoff_3b                          1\n",
       "triple_play                         1\n",
       "Name: count, dtype: int64"
      ]
     },
     "execution_count": 26,
     "metadata": {},
     "output_type": "execute_result"
    }
   ],
   "source": [
    "pitch_swing_data['events'].value_counts()"
   ]
  },
  {
   "cell_type": "code",
   "execution_count": 27,
   "id": "502e80dc-a4d8-403c-8153-946547e431a6",
   "metadata": {
    "tags": []
   },
   "outputs": [
    {
     "data": {
      "text/plain": [
       "description\n",
       "ball                       115169\n",
       "foul                        62378\n",
       "hit_into_play               61105\n",
       "called_strike               57244\n",
       "swinging_strike             35799\n",
       "blocked_ball                 7308\n",
       "foul_tip                     3654\n",
       "swinging_strike_blocked      1877\n",
       "hit_by_pitch                 1012\n",
       "foul_bunt                     586\n",
       "missed_bunt                    94\n",
       "pitchout                       20\n",
       "bunt_foul_tip                   4\n",
       "Name: count, dtype: int64"
      ]
     },
     "execution_count": 27,
     "metadata": {},
     "output_type": "execute_result"
    }
   ],
   "source": [
    "pitch_swing_data['description'].value_counts()"
   ]
  },
  {
   "cell_type": "code",
   "execution_count": 32,
   "id": "d28c9b71-e4ba-4525-a7f3-ba4ac33f7bc8",
   "metadata": {
    "tags": []
   },
   "outputs": [
    {
     "data": {
      "text/plain": [
       "Series([], Name: count, dtype: int64)"
      ]
     },
     "execution_count": 32,
     "metadata": {},
     "output_type": "execute_result"
    }
   ],
   "source": [
    "pitch_swing_data['spin_dir'].value_counts()"
   ]
  },
  {
   "cell_type": "code",
   "execution_count": 33,
   "id": "aef2f54d-83f1-4367-91fb-b8855eea3c02",
   "metadata": {
    "tags": []
   },
   "outputs": [
    {
     "data": {
      "text/plain": [
       "Series([], Name: count, dtype: int64)"
      ]
     },
     "execution_count": 33,
     "metadata": {},
     "output_type": "execute_result"
    }
   ],
   "source": [
    "pitch_swing_data['spin_rate_deprecated'].value_counts()"
   ]
  },
  {
   "cell_type": "code",
   "execution_count": 34,
   "id": "fa23f639-860e-4cac-8b79-3215026f7abc",
   "metadata": {
    "tags": []
   },
   "outputs": [
    {
     "data": {
      "text/plain": [
       "Series([], Name: count, dtype: int64)"
      ]
     },
     "execution_count": 34,
     "metadata": {},
     "output_type": "execute_result"
    }
   ],
   "source": [
    "pitch_swing_data['break_angle_deprecated'].value_counts()"
   ]
  },
  {
   "cell_type": "code",
   "execution_count": 35,
   "id": "1dcfa494-ffd5-402c-bd3e-9c51b40110a2",
   "metadata": {
    "tags": []
   },
   "outputs": [
    {
     "data": {
      "text/plain": [
       "Series([], Name: count, dtype: int64)"
      ]
     },
     "execution_count": 35,
     "metadata": {},
     "output_type": "execute_result"
    }
   ],
   "source": [
    "pitch_swing_data['break_length_deprecated'].value_counts()"
   ]
  },
  {
   "cell_type": "code",
   "execution_count": 36,
   "id": "750a4cc7-b507-4c16-a4f1-089b5c9d0bc0",
   "metadata": {
    "tags": []
   },
   "outputs": [
    {
     "data": {
      "text/plain": [
       "zone\n",
       "14.0    66145\n",
       "13.0    42739\n",
       "11.0    35822\n",
       "12.0    28753\n",
       "5.0     26187\n",
       "8.0     22494\n",
       "6.0     21387\n",
       "4.0     20401\n",
       "9.0     20097\n",
       "2.0     17517\n",
       "7.0     16550\n",
       "1.0     14514\n",
       "3.0     13392\n",
       "Name: count, dtype: int64"
      ]
     },
     "execution_count": 36,
     "metadata": {},
     "output_type": "execute_result"
    }
   ],
   "source": [
    "pitch_swing_data['zone'].value_counts()"
   ]
  },
  {
   "cell_type": "code",
   "execution_count": 37,
   "id": "a316d9f3-bd5d-4ddf-8482-1441b63d3542",
   "metadata": {
    "tags": []
   },
   "outputs": [
    {
     "data": {
      "text/plain": [
       "des\n",
       "Bryan De La Cruz strikes out swinging.                                                            365\n",
       "Ezequiel Tovar strikes out swinging.                                                              359\n",
       "Cal Raleigh strikes out swinging.                                                                 357\n",
       "Kyle Schwarber strikes out swinging.                                                              348\n",
       "Paul DeJong strikes out swinging.                                                                 335\n",
       "                                                                                                 ... \n",
       "Tyler Fitzgerald flies out to center fielder Andy Pages.                                            1\n",
       "Chas McCormick singles on a line drive to left fielder Brandon Nimmo.   Mauricio Dubón scores.      1\n",
       "Trey Cabbage flies out to center fielder Harrison Bader.   Mauricio Dubón to 3rd.                   1\n",
       "Austin Slater grounds out to first baseman Cavan Biggio.                                            1\n",
       "DJ Stewart pops out to shortstop Jeremy Peña.                                                       1\n",
       "Name: count, Length: 62167, dtype: int64"
      ]
     },
     "execution_count": 37,
     "metadata": {},
     "output_type": "execute_result"
    }
   ],
   "source": [
    "pitch_swing_data['des'].value_counts()"
   ]
  },
  {
   "cell_type": "code",
   "execution_count": 38,
   "id": "4c15009e-498f-4540-81b2-8a14aa4e7987",
   "metadata": {
    "tags": []
   },
   "outputs": [
    {
     "data": {
      "text/plain": [
       "game_type\n",
       "R    346250\n",
       "Name: count, dtype: int64"
      ]
     },
     "execution_count": 38,
     "metadata": {},
     "output_type": "execute_result"
    }
   ],
   "source": [
    "pitch_swing_data['game_type'].value_counts()"
   ]
  },
  {
   "cell_type": "code",
   "execution_count": 39,
   "id": "aa87f85c-95a4-464e-ae48-500023cc9e17",
   "metadata": {
    "tags": []
   },
   "outputs": [
    {
     "data": {
      "text/plain": [
       "stand\n",
       "R    200003\n",
       "L    146247\n",
       "Name: count, dtype: int64"
      ]
     },
     "execution_count": 39,
     "metadata": {},
     "output_type": "execute_result"
    }
   ],
   "source": [
    "pitch_swing_data['stand'].value_counts()"
   ]
  },
  {
   "cell_type": "code",
   "execution_count": 40,
   "id": "7bc0b443-b7d5-40e8-88b1-7499562a7106",
   "metadata": {
    "tags": []
   },
   "outputs": [
    {
     "data": {
      "text/plain": [
       "p_throws\n",
       "R    252561\n",
       "L     93689\n",
       "Name: count, dtype: int64"
      ]
     },
     "execution_count": 40,
     "metadata": {},
     "output_type": "execute_result"
    }
   ],
   "source": [
    "pitch_swing_data['p_throws'].value_counts()"
   ]
  },
  {
   "cell_type": "code",
   "execution_count": 29,
   "id": "817febf4-c340-4f1b-be59-01213658aa2b",
   "metadata": {
    "tags": []
   },
   "outputs": [
    {
     "data": {
      "text/plain": [
       "Index(['pitch_type', 'game_date', 'release_speed', 'release_pos_x',\n",
       "       'release_pos_z', 'player_name', 'batter', 'pitcher', 'events',\n",
       "       'description', 'spin_dir', 'spin_rate_deprecated',\n",
       "       'break_angle_deprecated', 'break_length_deprecated', 'zone', 'des',\n",
       "       'game_type', 'stand', 'p_throws', 'home_team', 'away_team', 'type',\n",
       "       'hit_location', 'bb_type', 'balls', 'strikes', 'game_year', 'pfx_x',\n",
       "       'pfx_z', 'plate_x', 'plate_z', 'on_3b', 'on_2b', 'on_1b',\n",
       "       'outs_when_up', 'inning', 'inning_topbot', 'hc_x', 'hc_y',\n",
       "       'tfs_deprecated', 'tfs_zulu_deprecated', 'fielder_2', 'umpire', 'sv_id',\n",
       "       'vx0', 'vy0', 'vz0', 'ax', 'ay', 'az', 'sz_top', 'sz_bot',\n",
       "       'hit_distance_sc', 'launch_speed', 'launch_angle', 'effective_speed',\n",
       "       'release_spin_rate', 'release_extension', 'game_pk', 'pitcher_1',\n",
       "       'fielder_2_1', 'fielder_3', 'fielder_4', 'fielder_5', 'fielder_6',\n",
       "       'fielder_7', 'fielder_8', 'fielder_9', 'release_pos_y',\n",
       "       'estimated_ba_using_speedangle', 'estimated_woba_using_speedangle',\n",
       "       'woba_value', 'woba_denom', 'babip_value', 'iso_value',\n",
       "       'launch_speed_angle', 'at_bat_number', 'pitch_number', 'pitch_name',\n",
       "       'home_score', 'away_score', 'bat_score', 'fld_score', 'post_away_score',\n",
       "       'post_home_score', 'post_bat_score', 'post_fld_score',\n",
       "       'if_fielding_alignment', 'of_fielding_alignment', 'spin_axis',\n",
       "       'delta_home_win_exp', 'delta_run_exp', 'bat_speed', 'swing_length'],\n",
       "      dtype='object')"
      ]
     },
     "execution_count": 29,
     "metadata": {},
     "output_type": "execute_result"
    }
   ],
   "source": [
    "pitch_swing_data.columns"
   ]
  },
  {
   "cell_type": "code",
   "execution_count": null,
   "id": "18efb728-473d-441b-a6c0-c83905d7d644",
   "metadata": {},
   "outputs": [],
   "source": []
  }
 ],
 "metadata": {
  "availableInstances": [
   {
    "_defaultOrder": 0,
    "_isFastLaunch": true,
    "category": "General purpose",
    "gpuNum": 0,
    "hideHardwareSpecs": false,
    "memoryGiB": 4,
    "name": "ml.t3.medium",
    "vcpuNum": 2
   },
   {
    "_defaultOrder": 1,
    "_isFastLaunch": false,
    "category": "General purpose",
    "gpuNum": 0,
    "hideHardwareSpecs": false,
    "memoryGiB": 8,
    "name": "ml.t3.large",
    "vcpuNum": 2
   },
   {
    "_defaultOrder": 2,
    "_isFastLaunch": false,
    "category": "General purpose",
    "gpuNum": 0,
    "hideHardwareSpecs": false,
    "memoryGiB": 16,
    "name": "ml.t3.xlarge",
    "vcpuNum": 4
   },
   {
    "_defaultOrder": 3,
    "_isFastLaunch": false,
    "category": "General purpose",
    "gpuNum": 0,
    "hideHardwareSpecs": false,
    "memoryGiB": 32,
    "name": "ml.t3.2xlarge",
    "vcpuNum": 8
   },
   {
    "_defaultOrder": 4,
    "_isFastLaunch": true,
    "category": "General purpose",
    "gpuNum": 0,
    "hideHardwareSpecs": false,
    "memoryGiB": 8,
    "name": "ml.m5.large",
    "vcpuNum": 2
   },
   {
    "_defaultOrder": 5,
    "_isFastLaunch": false,
    "category": "General purpose",
    "gpuNum": 0,
    "hideHardwareSpecs": false,
    "memoryGiB": 16,
    "name": "ml.m5.xlarge",
    "vcpuNum": 4
   },
   {
    "_defaultOrder": 6,
    "_isFastLaunch": false,
    "category": "General purpose",
    "gpuNum": 0,
    "hideHardwareSpecs": false,
    "memoryGiB": 32,
    "name": "ml.m5.2xlarge",
    "vcpuNum": 8
   },
   {
    "_defaultOrder": 7,
    "_isFastLaunch": false,
    "category": "General purpose",
    "gpuNum": 0,
    "hideHardwareSpecs": false,
    "memoryGiB": 64,
    "name": "ml.m5.4xlarge",
    "vcpuNum": 16
   },
   {
    "_defaultOrder": 8,
    "_isFastLaunch": false,
    "category": "General purpose",
    "gpuNum": 0,
    "hideHardwareSpecs": false,
    "memoryGiB": 128,
    "name": "ml.m5.8xlarge",
    "vcpuNum": 32
   },
   {
    "_defaultOrder": 9,
    "_isFastLaunch": false,
    "category": "General purpose",
    "gpuNum": 0,
    "hideHardwareSpecs": false,
    "memoryGiB": 192,
    "name": "ml.m5.12xlarge",
    "vcpuNum": 48
   },
   {
    "_defaultOrder": 10,
    "_isFastLaunch": false,
    "category": "General purpose",
    "gpuNum": 0,
    "hideHardwareSpecs": false,
    "memoryGiB": 256,
    "name": "ml.m5.16xlarge",
    "vcpuNum": 64
   },
   {
    "_defaultOrder": 11,
    "_isFastLaunch": false,
    "category": "General purpose",
    "gpuNum": 0,
    "hideHardwareSpecs": false,
    "memoryGiB": 384,
    "name": "ml.m5.24xlarge",
    "vcpuNum": 96
   },
   {
    "_defaultOrder": 12,
    "_isFastLaunch": false,
    "category": "General purpose",
    "gpuNum": 0,
    "hideHardwareSpecs": false,
    "memoryGiB": 8,
    "name": "ml.m5d.large",
    "vcpuNum": 2
   },
   {
    "_defaultOrder": 13,
    "_isFastLaunch": false,
    "category": "General purpose",
    "gpuNum": 0,
    "hideHardwareSpecs": false,
    "memoryGiB": 16,
    "name": "ml.m5d.xlarge",
    "vcpuNum": 4
   },
   {
    "_defaultOrder": 14,
    "_isFastLaunch": false,
    "category": "General purpose",
    "gpuNum": 0,
    "hideHardwareSpecs": false,
    "memoryGiB": 32,
    "name": "ml.m5d.2xlarge",
    "vcpuNum": 8
   },
   {
    "_defaultOrder": 15,
    "_isFastLaunch": false,
    "category": "General purpose",
    "gpuNum": 0,
    "hideHardwareSpecs": false,
    "memoryGiB": 64,
    "name": "ml.m5d.4xlarge",
    "vcpuNum": 16
   },
   {
    "_defaultOrder": 16,
    "_isFastLaunch": false,
    "category": "General purpose",
    "gpuNum": 0,
    "hideHardwareSpecs": false,
    "memoryGiB": 128,
    "name": "ml.m5d.8xlarge",
    "vcpuNum": 32
   },
   {
    "_defaultOrder": 17,
    "_isFastLaunch": false,
    "category": "General purpose",
    "gpuNum": 0,
    "hideHardwareSpecs": false,
    "memoryGiB": 192,
    "name": "ml.m5d.12xlarge",
    "vcpuNum": 48
   },
   {
    "_defaultOrder": 18,
    "_isFastLaunch": false,
    "category": "General purpose",
    "gpuNum": 0,
    "hideHardwareSpecs": false,
    "memoryGiB": 256,
    "name": "ml.m5d.16xlarge",
    "vcpuNum": 64
   },
   {
    "_defaultOrder": 19,
    "_isFastLaunch": false,
    "category": "General purpose",
    "gpuNum": 0,
    "hideHardwareSpecs": false,
    "memoryGiB": 384,
    "name": "ml.m5d.24xlarge",
    "vcpuNum": 96
   },
   {
    "_defaultOrder": 20,
    "_isFastLaunch": false,
    "category": "General purpose",
    "gpuNum": 0,
    "hideHardwareSpecs": true,
    "memoryGiB": 0,
    "name": "ml.geospatial.interactive",
    "supportedImageNames": [
     "sagemaker-geospatial-v1-0"
    ],
    "vcpuNum": 0
   },
   {
    "_defaultOrder": 21,
    "_isFastLaunch": true,
    "category": "Compute optimized",
    "gpuNum": 0,
    "hideHardwareSpecs": false,
    "memoryGiB": 4,
    "name": "ml.c5.large",
    "vcpuNum": 2
   },
   {
    "_defaultOrder": 22,
    "_isFastLaunch": false,
    "category": "Compute optimized",
    "gpuNum": 0,
    "hideHardwareSpecs": false,
    "memoryGiB": 8,
    "name": "ml.c5.xlarge",
    "vcpuNum": 4
   },
   {
    "_defaultOrder": 23,
    "_isFastLaunch": false,
    "category": "Compute optimized",
    "gpuNum": 0,
    "hideHardwareSpecs": false,
    "memoryGiB": 16,
    "name": "ml.c5.2xlarge",
    "vcpuNum": 8
   },
   {
    "_defaultOrder": 24,
    "_isFastLaunch": false,
    "category": "Compute optimized",
    "gpuNum": 0,
    "hideHardwareSpecs": false,
    "memoryGiB": 32,
    "name": "ml.c5.4xlarge",
    "vcpuNum": 16
   },
   {
    "_defaultOrder": 25,
    "_isFastLaunch": false,
    "category": "Compute optimized",
    "gpuNum": 0,
    "hideHardwareSpecs": false,
    "memoryGiB": 72,
    "name": "ml.c5.9xlarge",
    "vcpuNum": 36
   },
   {
    "_defaultOrder": 26,
    "_isFastLaunch": false,
    "category": "Compute optimized",
    "gpuNum": 0,
    "hideHardwareSpecs": false,
    "memoryGiB": 96,
    "name": "ml.c5.12xlarge",
    "vcpuNum": 48
   },
   {
    "_defaultOrder": 27,
    "_isFastLaunch": false,
    "category": "Compute optimized",
    "gpuNum": 0,
    "hideHardwareSpecs": false,
    "memoryGiB": 144,
    "name": "ml.c5.18xlarge",
    "vcpuNum": 72
   },
   {
    "_defaultOrder": 28,
    "_isFastLaunch": false,
    "category": "Compute optimized",
    "gpuNum": 0,
    "hideHardwareSpecs": false,
    "memoryGiB": 192,
    "name": "ml.c5.24xlarge",
    "vcpuNum": 96
   },
   {
    "_defaultOrder": 29,
    "_isFastLaunch": true,
    "category": "Accelerated computing",
    "gpuNum": 1,
    "hideHardwareSpecs": false,
    "memoryGiB": 16,
    "name": "ml.g4dn.xlarge",
    "vcpuNum": 4
   },
   {
    "_defaultOrder": 30,
    "_isFastLaunch": false,
    "category": "Accelerated computing",
    "gpuNum": 1,
    "hideHardwareSpecs": false,
    "memoryGiB": 32,
    "name": "ml.g4dn.2xlarge",
    "vcpuNum": 8
   },
   {
    "_defaultOrder": 31,
    "_isFastLaunch": false,
    "category": "Accelerated computing",
    "gpuNum": 1,
    "hideHardwareSpecs": false,
    "memoryGiB": 64,
    "name": "ml.g4dn.4xlarge",
    "vcpuNum": 16
   },
   {
    "_defaultOrder": 32,
    "_isFastLaunch": false,
    "category": "Accelerated computing",
    "gpuNum": 1,
    "hideHardwareSpecs": false,
    "memoryGiB": 128,
    "name": "ml.g4dn.8xlarge",
    "vcpuNum": 32
   },
   {
    "_defaultOrder": 33,
    "_isFastLaunch": false,
    "category": "Accelerated computing",
    "gpuNum": 4,
    "hideHardwareSpecs": false,
    "memoryGiB": 192,
    "name": "ml.g4dn.12xlarge",
    "vcpuNum": 48
   },
   {
    "_defaultOrder": 34,
    "_isFastLaunch": false,
    "category": "Accelerated computing",
    "gpuNum": 1,
    "hideHardwareSpecs": false,
    "memoryGiB": 256,
    "name": "ml.g4dn.16xlarge",
    "vcpuNum": 64
   },
   {
    "_defaultOrder": 35,
    "_isFastLaunch": false,
    "category": "Accelerated computing",
    "gpuNum": 1,
    "hideHardwareSpecs": false,
    "memoryGiB": 61,
    "name": "ml.p3.2xlarge",
    "vcpuNum": 8
   },
   {
    "_defaultOrder": 36,
    "_isFastLaunch": false,
    "category": "Accelerated computing",
    "gpuNum": 4,
    "hideHardwareSpecs": false,
    "memoryGiB": 244,
    "name": "ml.p3.8xlarge",
    "vcpuNum": 32
   },
   {
    "_defaultOrder": 37,
    "_isFastLaunch": false,
    "category": "Accelerated computing",
    "gpuNum": 8,
    "hideHardwareSpecs": false,
    "memoryGiB": 488,
    "name": "ml.p3.16xlarge",
    "vcpuNum": 64
   },
   {
    "_defaultOrder": 38,
    "_isFastLaunch": false,
    "category": "Accelerated computing",
    "gpuNum": 8,
    "hideHardwareSpecs": false,
    "memoryGiB": 768,
    "name": "ml.p3dn.24xlarge",
    "vcpuNum": 96
   },
   {
    "_defaultOrder": 39,
    "_isFastLaunch": false,
    "category": "Memory Optimized",
    "gpuNum": 0,
    "hideHardwareSpecs": false,
    "memoryGiB": 16,
    "name": "ml.r5.large",
    "vcpuNum": 2
   },
   {
    "_defaultOrder": 40,
    "_isFastLaunch": false,
    "category": "Memory Optimized",
    "gpuNum": 0,
    "hideHardwareSpecs": false,
    "memoryGiB": 32,
    "name": "ml.r5.xlarge",
    "vcpuNum": 4
   },
   {
    "_defaultOrder": 41,
    "_isFastLaunch": false,
    "category": "Memory Optimized",
    "gpuNum": 0,
    "hideHardwareSpecs": false,
    "memoryGiB": 64,
    "name": "ml.r5.2xlarge",
    "vcpuNum": 8
   },
   {
    "_defaultOrder": 42,
    "_isFastLaunch": false,
    "category": "Memory Optimized",
    "gpuNum": 0,
    "hideHardwareSpecs": false,
    "memoryGiB": 128,
    "name": "ml.r5.4xlarge",
    "vcpuNum": 16
   },
   {
    "_defaultOrder": 43,
    "_isFastLaunch": false,
    "category": "Memory Optimized",
    "gpuNum": 0,
    "hideHardwareSpecs": false,
    "memoryGiB": 256,
    "name": "ml.r5.8xlarge",
    "vcpuNum": 32
   },
   {
    "_defaultOrder": 44,
    "_isFastLaunch": false,
    "category": "Memory Optimized",
    "gpuNum": 0,
    "hideHardwareSpecs": false,
    "memoryGiB": 384,
    "name": "ml.r5.12xlarge",
    "vcpuNum": 48
   },
   {
    "_defaultOrder": 45,
    "_isFastLaunch": false,
    "category": "Memory Optimized",
    "gpuNum": 0,
    "hideHardwareSpecs": false,
    "memoryGiB": 512,
    "name": "ml.r5.16xlarge",
    "vcpuNum": 64
   },
   {
    "_defaultOrder": 46,
    "_isFastLaunch": false,
    "category": "Memory Optimized",
    "gpuNum": 0,
    "hideHardwareSpecs": false,
    "memoryGiB": 768,
    "name": "ml.r5.24xlarge",
    "vcpuNum": 96
   },
   {
    "_defaultOrder": 47,
    "_isFastLaunch": false,
    "category": "Accelerated computing",
    "gpuNum": 1,
    "hideHardwareSpecs": false,
    "memoryGiB": 16,
    "name": "ml.g5.xlarge",
    "vcpuNum": 4
   },
   {
    "_defaultOrder": 48,
    "_isFastLaunch": false,
    "category": "Accelerated computing",
    "gpuNum": 1,
    "hideHardwareSpecs": false,
    "memoryGiB": 32,
    "name": "ml.g5.2xlarge",
    "vcpuNum": 8
   },
   {
    "_defaultOrder": 49,
    "_isFastLaunch": false,
    "category": "Accelerated computing",
    "gpuNum": 1,
    "hideHardwareSpecs": false,
    "memoryGiB": 64,
    "name": "ml.g5.4xlarge",
    "vcpuNum": 16
   },
   {
    "_defaultOrder": 50,
    "_isFastLaunch": false,
    "category": "Accelerated computing",
    "gpuNum": 1,
    "hideHardwareSpecs": false,
    "memoryGiB": 128,
    "name": "ml.g5.8xlarge",
    "vcpuNum": 32
   },
   {
    "_defaultOrder": 51,
    "_isFastLaunch": false,
    "category": "Accelerated computing",
    "gpuNum": 1,
    "hideHardwareSpecs": false,
    "memoryGiB": 256,
    "name": "ml.g5.16xlarge",
    "vcpuNum": 64
   },
   {
    "_defaultOrder": 52,
    "_isFastLaunch": false,
    "category": "Accelerated computing",
    "gpuNum": 4,
    "hideHardwareSpecs": false,
    "memoryGiB": 192,
    "name": "ml.g5.12xlarge",
    "vcpuNum": 48
   },
   {
    "_defaultOrder": 53,
    "_isFastLaunch": false,
    "category": "Accelerated computing",
    "gpuNum": 4,
    "hideHardwareSpecs": false,
    "memoryGiB": 384,
    "name": "ml.g5.24xlarge",
    "vcpuNum": 96
   },
   {
    "_defaultOrder": 54,
    "_isFastLaunch": false,
    "category": "Accelerated computing",
    "gpuNum": 8,
    "hideHardwareSpecs": false,
    "memoryGiB": 768,
    "name": "ml.g5.48xlarge",
    "vcpuNum": 192
   },
   {
    "_defaultOrder": 55,
    "_isFastLaunch": false,
    "category": "Accelerated computing",
    "gpuNum": 8,
    "hideHardwareSpecs": false,
    "memoryGiB": 1152,
    "name": "ml.p4d.24xlarge",
    "vcpuNum": 96
   },
   {
    "_defaultOrder": 56,
    "_isFastLaunch": false,
    "category": "Accelerated computing",
    "gpuNum": 8,
    "hideHardwareSpecs": false,
    "memoryGiB": 1152,
    "name": "ml.p4de.24xlarge",
    "vcpuNum": 96
   },
   {
    "_defaultOrder": 57,
    "_isFastLaunch": false,
    "category": "Accelerated computing",
    "gpuNum": 0,
    "hideHardwareSpecs": false,
    "memoryGiB": 32,
    "name": "ml.trn1.2xlarge",
    "vcpuNum": 8
   },
   {
    "_defaultOrder": 58,
    "_isFastLaunch": false,
    "category": "Accelerated computing",
    "gpuNum": 0,
    "hideHardwareSpecs": false,
    "memoryGiB": 512,
    "name": "ml.trn1.32xlarge",
    "vcpuNum": 128
   },
   {
    "_defaultOrder": 59,
    "_isFastLaunch": false,
    "category": "Accelerated computing",
    "gpuNum": 0,
    "hideHardwareSpecs": false,
    "memoryGiB": 512,
    "name": "ml.trn1n.32xlarge",
    "vcpuNum": 128
   }
  ],
  "instance_type": "ml.c5.9xlarge",
  "kernelspec": {
   "display_name": "base",
   "language": "python",
   "name": "python3"
  },
  "language_info": {
   "codemirror_mode": {
    "name": "ipython",
    "version": 3
   },
   "file_extension": ".py",
   "mimetype": "text/x-python",
   "name": "python",
   "nbconvert_exporter": "python",
   "pygments_lexer": "ipython3",
   "version": "3.11.5"
  }
 },
 "nbformat": 4,
 "nbformat_minor": 5
}
