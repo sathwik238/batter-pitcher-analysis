{
 "cells": [
  {
   "cell_type": "markdown",
   "id": "b44b8e49-730c-46be-b009-3badd73114ea",
   "metadata": {},
   "source": [
    "---\n",
    "# Project: Analysis of Batter-Pitcher Interactions Using Bat Speed and Swing Length\n",
    "\n",
    "### Overview\n",
    "\n",
    "This project aims to explore the intricate dynamics between batters and pitchers by analyzing new baseball data on bat speed and swing length. Using detailed pitch-level data from Major League Baseball games between 04/02/2024 and 06/30/2024, the study investigates how these metrics influence or reflect various aspects of the batter-pitcher interaction.\n",
    "\n",
    "### Program Description\n",
    "\n",
    "**Stage/Step 1:** This program utilizes pre-processed MLB data to perform model training and evaluation, focusing on the relationship between bat speed, swing length, and batter performance metrics.\n",
    "\n",
    "### Analysis Focus\n",
    "\n",
    "The notebook concentrates on:\n",
    "\n",
    "- Examining the correlation between bat speed, swing length, and plate discipline.\n",
    "- Identifying patterns in swing types relative to different game situations.\n",
    "- Evaluating the influence of pitchers on batter swing mechanics.\n",
    "\n",
    "### High-Level Process Flow\n",
    "\n",
    "1. **Loading Data**\n",
    "2. **Data Preprocessing**\n",
    "3. **Exploratory Data Analysis**\n",
    "4. **Model Training and Evaluation**\n",
    "5. **Results Visualization**\n",
    "6. **Exporting Findings**\n",
    "\n",
    "### Data\n",
    "\n",
    "- **Input Data:** MLB pitch-level dataset with bat speed and swing length metrics (04/02/2024 - 06/30/2024).\n",
    "- **Output Data:** Model performance metrics, analytical results, and visualizations.\n",
    "\n",
    "### Special Instructions\n",
    "\n",
    "- Ensure the input data path is correctly specified before running the script.\n",
    "- Dependencies include libraries such as `pandas`, `numpy`, `matplotlib`, `seaborn`, and `scikit-learn`.\n",
    "\n",
    "### Author and Timing\n",
    "\n",
    "- **Author:** *Sathwik Bollepalli*\n",
    "- **Date:** *10/22/2024*\n",
    "\n",
    "---"
   ]
  },
  {
   "cell_type": "code",
   "execution_count": 50,
   "id": "67eb8353-6e9b-452b-b921-91ab3019821b",
   "metadata": {
    "tags": []
   },
   "outputs": [],
   "source": [
    "import pandas as pd\n",
    "import numpy as np\n",
    "import warnings \n",
    "warnings.filterwarnings('ignore')\n",
    "\n",
    "import matplotlib.pyplot as plt"
   ]
  },
  {
   "cell_type": "code",
   "execution_count": 54,
   "id": "2fd1bdb7-c385-419f-9abf-c105f099b262",
   "metadata": {
    "tags": []
   },
   "outputs": [
    {
     "data": {
      "text/plain": [
       "(346250, 94)"
      ]
     },
     "execution_count": 54,
     "metadata": {},
     "output_type": "execute_result"
    }
   ],
   "source": [
    "pitch_swing_data = pd.read_csv(\n",
    "    '../data/statcast_pitch_swing_data_20240402_20240630.csv', \n",
    "    engine='python'\n",
    ")\n",
    "pitch_swing_data.shape"
   ]
  },
  {
   "cell_type": "code",
   "execution_count": null,
   "id": "45be60b3-fc77-419b-bc43-2dc23ddb0bee",
   "metadata": {
    "tags": []
   },
   "outputs": [],
   "source": [
    "pitch_swing_data = pd.read_csv(\n",
    "    '../statcast_pitch_swing_data_20240402_20240630.zip', \n",
    "    compression='zip',\n",
    "    engine='python'\n",
    ")"
   ]
  },
  {
   "cell_type": "code",
   "execution_count": 4,
   "id": "1e94bce2-88b9-4735-b824-02a09402691b",
   "metadata": {},
   "outputs": [
    {
     "data": {
      "text/html": [
       "<div>\n",
       "<style scoped>\n",
       "    .dataframe tbody tr th:only-of-type {\n",
       "        vertical-align: middle;\n",
       "    }\n",
       "\n",
       "    .dataframe tbody tr th {\n",
       "        vertical-align: top;\n",
       "    }\n",
       "\n",
       "    .dataframe thead th {\n",
       "        text-align: right;\n",
       "    }\n",
       "</style>\n",
       "<table border=\"1\" class=\"dataframe\">\n",
       "  <thead>\n",
       "    <tr style=\"text-align: right;\">\n",
       "      <th></th>\n",
       "      <th>pitch_type</th>\n",
       "      <th>game_date</th>\n",
       "      <th>release_speed</th>\n",
       "      <th>release_pos_x</th>\n",
       "      <th>release_pos_z</th>\n",
       "      <th>player_name</th>\n",
       "      <th>batter</th>\n",
       "      <th>pitcher</th>\n",
       "      <th>events</th>\n",
       "      <th>description</th>\n",
       "      <th>...</th>\n",
       "      <th>post_home_score</th>\n",
       "      <th>post_bat_score</th>\n",
       "      <th>post_fld_score</th>\n",
       "      <th>if_fielding_alignment</th>\n",
       "      <th>of_fielding_alignment</th>\n",
       "      <th>spin_axis</th>\n",
       "      <th>delta_home_win_exp</th>\n",
       "      <th>delta_run_exp</th>\n",
       "      <th>bat_speed</th>\n",
       "      <th>swing_length</th>\n",
       "    </tr>\n",
       "  </thead>\n",
       "  <tbody>\n",
       "    <tr>\n",
       "      <th>1821</th>\n",
       "      <td>FF</td>\n",
       "      <td>2024-04-02</td>\n",
       "      <td>86.9</td>\n",
       "      <td>3.12</td>\n",
       "      <td>5.14</td>\n",
       "      <td>Chapman, Matt</td>\n",
       "      <td>656305</td>\n",
       "      <td>642232</td>\n",
       "      <td>NaN</td>\n",
       "      <td>ball</td>\n",
       "      <td>...</td>\n",
       "      <td>1</td>\n",
       "      <td>1</td>\n",
       "      <td>1</td>\n",
       "      <td>Standard</td>\n",
       "      <td>Standard</td>\n",
       "      <td>111.0</td>\n",
       "      <td>0.000</td>\n",
       "      <td>0.048</td>\n",
       "      <td>NaN</td>\n",
       "      <td>NaN</td>\n",
       "    </tr>\n",
       "    <tr>\n",
       "      <th>214975</th>\n",
       "      <td>FF</td>\n",
       "      <td>2024-05-28</td>\n",
       "      <td>92.0</td>\n",
       "      <td>-0.45</td>\n",
       "      <td>5.97</td>\n",
       "      <td>Schuemann, Max</td>\n",
       "      <td>680474</td>\n",
       "      <td>641793</td>\n",
       "      <td>strikeout</td>\n",
       "      <td>called_strike</td>\n",
       "      <td>...</td>\n",
       "      <td>0</td>\n",
       "      <td>3</td>\n",
       "      <td>0</td>\n",
       "      <td>Standard</td>\n",
       "      <td>Standard</td>\n",
       "      <td>211.0</td>\n",
       "      <td>0.016</td>\n",
       "      <td>-0.300</td>\n",
       "      <td>NaN</td>\n",
       "      <td>NaN</td>\n",
       "    </tr>\n",
       "    <tr>\n",
       "      <th>307354</th>\n",
       "      <td>SI</td>\n",
       "      <td>2024-06-21</td>\n",
       "      <td>93.7</td>\n",
       "      <td>-1.08</td>\n",
       "      <td>5.87</td>\n",
       "      <td>Springer, George</td>\n",
       "      <td>543807</td>\n",
       "      <td>471911</td>\n",
       "      <td>field_out</td>\n",
       "      <td>hit_into_play</td>\n",
       "      <td>...</td>\n",
       "      <td>7</td>\n",
       "      <td>1</td>\n",
       "      <td>7</td>\n",
       "      <td>Strategic</td>\n",
       "      <td>Standard</td>\n",
       "      <td>212.0</td>\n",
       "      <td>0.005</td>\n",
       "      <td>-0.157</td>\n",
       "      <td>72.813008</td>\n",
       "      <td>7.21467</td>\n",
       "    </tr>\n",
       "    <tr>\n",
       "      <th>235928</th>\n",
       "      <td>ST</td>\n",
       "      <td>2024-06-02</td>\n",
       "      <td>83.3</td>\n",
       "      <td>-1.91</td>\n",
       "      <td>6.03</td>\n",
       "      <td>Barnes, Austin</td>\n",
       "      <td>605131</td>\n",
       "      <td>663567</td>\n",
       "      <td>NaN</td>\n",
       "      <td>ball</td>\n",
       "      <td>...</td>\n",
       "      <td>3</td>\n",
       "      <td>3</td>\n",
       "      <td>0</td>\n",
       "      <td>Standard</td>\n",
       "      <td>Standard</td>\n",
       "      <td>45.0</td>\n",
       "      <td>0.000</td>\n",
       "      <td>0.016</td>\n",
       "      <td>NaN</td>\n",
       "      <td>NaN</td>\n",
       "    </tr>\n",
       "    <tr>\n",
       "      <th>7426</th>\n",
       "      <td>FF</td>\n",
       "      <td>2024-04-03</td>\n",
       "      <td>90.5</td>\n",
       "      <td>-2.00</td>\n",
       "      <td>5.89</td>\n",
       "      <td>Ward, Taylor</td>\n",
       "      <td>621493</td>\n",
       "      <td>572143</td>\n",
       "      <td>NaN</td>\n",
       "      <td>called_strike</td>\n",
       "      <td>...</td>\n",
       "      <td>2</td>\n",
       "      <td>4</td>\n",
       "      <td>2</td>\n",
       "      <td>Standard</td>\n",
       "      <td>Standard</td>\n",
       "      <td>200.0</td>\n",
       "      <td>0.000</td>\n",
       "      <td>-0.033</td>\n",
       "      <td>NaN</td>\n",
       "      <td>NaN</td>\n",
       "    </tr>\n",
       "  </tbody>\n",
       "</table>\n",
       "<p>5 rows × 94 columns</p>\n",
       "</div>"
      ],
      "text/plain": [
       "       pitch_type   game_date  release_speed  release_pos_x  release_pos_z  \\\n",
       "1821           FF  2024-04-02           86.9           3.12           5.14   \n",
       "214975         FF  2024-05-28           92.0          -0.45           5.97   \n",
       "307354         SI  2024-06-21           93.7          -1.08           5.87   \n",
       "235928         ST  2024-06-02           83.3          -1.91           6.03   \n",
       "7426           FF  2024-04-03           90.5          -2.00           5.89   \n",
       "\n",
       "             player_name  batter  pitcher     events    description  ...  \\\n",
       "1821       Chapman, Matt  656305   642232        NaN           ball  ...   \n",
       "214975    Schuemann, Max  680474   641793  strikeout  called_strike  ...   \n",
       "307354  Springer, George  543807   471911  field_out  hit_into_play  ...   \n",
       "235928    Barnes, Austin  605131   663567        NaN           ball  ...   \n",
       "7426        Ward, Taylor  621493   572143        NaN  called_strike  ...   \n",
       "\n",
       "        post_home_score  post_bat_score  post_fld_score  \\\n",
       "1821                  1               1               1   \n",
       "214975                0               3               0   \n",
       "307354                7               1               7   \n",
       "235928                3               3               0   \n",
       "7426                  2               4               2   \n",
       "\n",
       "        if_fielding_alignment  of_fielding_alignment spin_axis  \\\n",
       "1821                 Standard               Standard     111.0   \n",
       "214975               Standard               Standard     211.0   \n",
       "307354              Strategic               Standard     212.0   \n",
       "235928               Standard               Standard      45.0   \n",
       "7426                 Standard               Standard     200.0   \n",
       "\n",
       "       delta_home_win_exp delta_run_exp  bat_speed swing_length  \n",
       "1821                0.000         0.048        NaN          NaN  \n",
       "214975              0.016        -0.300        NaN          NaN  \n",
       "307354              0.005        -0.157  72.813008      7.21467  \n",
       "235928              0.000         0.016        NaN          NaN  \n",
       "7426                0.000        -0.033        NaN          NaN  \n",
       "\n",
       "[5 rows x 94 columns]"
      ]
     },
     "execution_count": 4,
     "metadata": {},
     "output_type": "execute_result"
    }
   ],
   "source": [
    "pitch_swing_data.sample(5)"
   ]
  },
  {
   "cell_type": "code",
   "execution_count": 5,
   "id": "98864408-29ba-4b7a-9dfa-906eeecd9cf9",
   "metadata": {},
   "outputs": [
    {
     "name": "stdout",
     "output_type": "stream",
     "text": [
      "<class 'pandas.core.frame.DataFrame'>\n",
      "RangeIndex: 346250 entries, 0 to 346249\n",
      "Data columns (total 94 columns):\n",
      " #   Column                           Non-Null Count   Dtype  \n",
      "---  ------                           --------------   -----  \n",
      " 0   pitch_type                       346000 non-null  object \n",
      " 1   game_date                        346250 non-null  object \n",
      " 2   release_speed                    345997 non-null  float64\n",
      " 3   release_pos_x                    345998 non-null  float64\n",
      " 4   release_pos_z                    345998 non-null  float64\n",
      " 5   player_name                      346250 non-null  object \n",
      " 6   batter                           346250 non-null  int64  \n",
      " 7   pitcher                          346250 non-null  int64  \n",
      " 8   events                           89144 non-null   object \n",
      " 9   description                      346250 non-null  object \n",
      " 10  spin_dir                         0 non-null       float64\n",
      " 11  spin_rate_deprecated             0 non-null       float64\n",
      " 12  break_angle_deprecated           0 non-null       float64\n",
      " 13  break_length_deprecated          0 non-null       float64\n",
      " 14  zone                             345998 non-null  float64\n",
      " 15  des                              346250 non-null  object \n",
      " 16  game_type                        346250 non-null  object \n",
      " 17  stand                            346250 non-null  object \n",
      " 18  p_throws                         346250 non-null  object \n",
      " 19  home_team                        346250 non-null  object \n",
      " 20  away_team                        346250 non-null  object \n",
      " 21  type                             346250 non-null  object \n",
      " 22  hit_location                     78362 non-null   float64\n",
      " 23  bb_type                          61101 non-null   object \n",
      " 24  balls                            346250 non-null  int64  \n",
      " 25  strikes                          346250 non-null  int64  \n",
      " 26  game_year                        346250 non-null  int64  \n",
      " 27  pfx_x                            345998 non-null  float64\n",
      " 28  pfx_z                            345998 non-null  float64\n",
      " 29  plate_x                          345998 non-null  float64\n",
      " 30  plate_z                          345998 non-null  float64\n",
      " 31  on_3b                            32101 non-null   float64\n",
      " 32  on_2b                            65035 non-null   float64\n",
      " 33  on_1b                            104428 non-null  float64\n",
      " 34  outs_when_up                     346250 non-null  int64  \n",
      " 35  inning                           346250 non-null  int64  \n",
      " 36  inning_topbot                    346250 non-null  object \n",
      " 37  hc_x                             61082 non-null   float64\n",
      " 38  hc_y                             61082 non-null   float64\n",
      " 39  tfs_deprecated                   0 non-null       float64\n",
      " 40  tfs_zulu_deprecated              0 non-null       float64\n",
      " 41  fielder_2                        346250 non-null  int64  \n",
      " 42  umpire                           0 non-null       float64\n",
      " 43  sv_id                            0 non-null       float64\n",
      " 44  vx0                              345998 non-null  float64\n",
      " 45  vy0                              345998 non-null  float64\n",
      " 46  vz0                              345998 non-null  float64\n",
      " 47  ax                               345998 non-null  float64\n",
      " 48  ay                               345998 non-null  float64\n",
      " 49  az                               345998 non-null  float64\n",
      " 50  sz_top                           345998 non-null  float64\n",
      " 51  sz_bot                           345998 non-null  float64\n",
      " 52  hit_distance_sc                  116533 non-null  float64\n",
      " 53  launch_speed                     115835 non-null  float64\n",
      " 54  launch_angle                     115995 non-null  float64\n",
      " 55  effective_speed                  345174 non-null  float64\n",
      " 56  release_spin_rate                344047 non-null  float64\n",
      " 57  release_extension                345277 non-null  float64\n",
      " 58  game_pk                          346250 non-null  int64  \n",
      " 59  pitcher_1                        346250 non-null  int64  \n",
      " 60  fielder_2_1                      346250 non-null  int64  \n",
      " 61  fielder_3                        346250 non-null  int64  \n",
      " 62  fielder_4                        346250 non-null  int64  \n",
      " 63  fielder_5                        346250 non-null  int64  \n",
      " 64  fielder_6                        346250 non-null  int64  \n",
      " 65  fielder_7                        346250 non-null  int64  \n",
      " 66  fielder_8                        346250 non-null  int64  \n",
      " 67  fielder_9                        346250 non-null  int64  \n",
      " 68  release_pos_y                    345998 non-null  float64\n",
      " 69  estimated_ba_using_speedangle    60879 non-null   float64\n",
      " 70  estimated_woba_using_speedangle  88487 non-null   float64\n",
      " 71  woba_value                       89144 non-null   float64\n",
      " 72  woba_denom                       88922 non-null   float64\n",
      " 73  babip_value                      89144 non-null   float64\n",
      " 74  iso_value                        89144 non-null   float64\n",
      " 75  launch_speed_angle               60879 non-null   float64\n",
      " 76  at_bat_number                    346250 non-null  int64  \n",
      " 77  pitch_number                     346250 non-null  int64  \n",
      " 78  pitch_name                       346000 non-null  object \n",
      " 79  home_score                       346250 non-null  int64  \n",
      " 80  away_score                       346250 non-null  int64  \n",
      " 81  bat_score                        346250 non-null  int64  \n",
      " 82  fld_score                        346250 non-null  int64  \n",
      " 83  post_away_score                  346250 non-null  int64  \n",
      " 84  post_home_score                  346250 non-null  int64  \n",
      " 85  post_bat_score                   346250 non-null  int64  \n",
      " 86  post_fld_score                   346250 non-null  int64  \n",
      " 87  if_fielding_alignment            343985 non-null  object \n",
      " 88  of_fielding_alignment            343985 non-null  object \n",
      " 89  spin_axis                        344049 non-null  float64\n",
      " 90  delta_home_win_exp               346250 non-null  float64\n",
      " 91  delta_run_exp                    346230 non-null  float64\n",
      " 92  bat_speed                        155826 non-null  float64\n",
      " 93  swing_length                     155812 non-null  float64\n",
      "dtypes: float64(49), int64(28), object(17)\n",
      "memory usage: 248.3+ MB\n"
     ]
    }
   ],
   "source": [
    "pitch_swing_data.info()"
   ]
  },
  {
   "cell_type": "code",
   "execution_count": 49,
   "id": "3adb0e54-06e6-42e1-8140-be892b143a84",
   "metadata": {
    "tags": []
   },
   "outputs": [
    {
     "data": {
      "text/html": [
       "<div>\n",
       "<style scoped>\n",
       "    .dataframe tbody tr th:only-of-type {\n",
       "        vertical-align: middle;\n",
       "    }\n",
       "\n",
       "    .dataframe tbody tr th {\n",
       "        vertical-align: top;\n",
       "    }\n",
       "\n",
       "    .dataframe thead th {\n",
       "        text-align: right;\n",
       "    }\n",
       "</style>\n",
       "<table border=\"1\" class=\"dataframe\">\n",
       "  <thead>\n",
       "    <tr style=\"text-align: right;\">\n",
       "      <th></th>\n",
       "      <th>index</th>\n",
       "      <th>0</th>\n",
       "    </tr>\n",
       "  </thead>\n",
       "  <tbody>\n",
       "    <tr>\n",
       "      <th>10</th>\n",
       "      <td>spin_dir</td>\n",
       "      <td>100.000000</td>\n",
       "    </tr>\n",
       "    <tr>\n",
       "      <th>11</th>\n",
       "      <td>spin_rate_deprecated</td>\n",
       "      <td>100.000000</td>\n",
       "    </tr>\n",
       "    <tr>\n",
       "      <th>12</th>\n",
       "      <td>break_angle_deprecated</td>\n",
       "      <td>100.000000</td>\n",
       "    </tr>\n",
       "    <tr>\n",
       "      <th>13</th>\n",
       "      <td>break_length_deprecated</td>\n",
       "      <td>100.000000</td>\n",
       "    </tr>\n",
       "    <tr>\n",
       "      <th>23</th>\n",
       "      <td>bb_type</td>\n",
       "      <td>82.353502</td>\n",
       "    </tr>\n",
       "    <tr>\n",
       "      <th>31</th>\n",
       "      <td>on_3b</td>\n",
       "      <td>90.728953</td>\n",
       "    </tr>\n",
       "    <tr>\n",
       "      <th>32</th>\n",
       "      <td>on_2b</td>\n",
       "      <td>81.217329</td>\n",
       "    </tr>\n",
       "    <tr>\n",
       "      <th>37</th>\n",
       "      <td>hc_x</td>\n",
       "      <td>82.358989</td>\n",
       "    </tr>\n",
       "    <tr>\n",
       "      <th>38</th>\n",
       "      <td>hc_y</td>\n",
       "      <td>82.358989</td>\n",
       "    </tr>\n",
       "    <tr>\n",
       "      <th>39</th>\n",
       "      <td>tfs_deprecated</td>\n",
       "      <td>100.000000</td>\n",
       "    </tr>\n",
       "    <tr>\n",
       "      <th>40</th>\n",
       "      <td>tfs_zulu_deprecated</td>\n",
       "      <td>100.000000</td>\n",
       "    </tr>\n",
       "    <tr>\n",
       "      <th>42</th>\n",
       "      <td>umpire</td>\n",
       "      <td>100.000000</td>\n",
       "    </tr>\n",
       "    <tr>\n",
       "      <th>43</th>\n",
       "      <td>sv_id</td>\n",
       "      <td>100.000000</td>\n",
       "    </tr>\n",
       "    <tr>\n",
       "      <th>69</th>\n",
       "      <td>estimated_ba_using_speedangle</td>\n",
       "      <td>82.417617</td>\n",
       "    </tr>\n",
       "    <tr>\n",
       "      <th>75</th>\n",
       "      <td>launch_speed_angle</td>\n",
       "      <td>82.417617</td>\n",
       "    </tr>\n",
       "  </tbody>\n",
       "</table>\n",
       "</div>"
      ],
      "text/plain": [
       "                            index           0\n",
       "10                       spin_dir  100.000000\n",
       "11           spin_rate_deprecated  100.000000\n",
       "12         break_angle_deprecated  100.000000\n",
       "13        break_length_deprecated  100.000000\n",
       "23                        bb_type   82.353502\n",
       "31                          on_3b   90.728953\n",
       "32                          on_2b   81.217329\n",
       "37                           hc_x   82.358989\n",
       "38                           hc_y   82.358989\n",
       "39                 tfs_deprecated  100.000000\n",
       "40            tfs_zulu_deprecated  100.000000\n",
       "42                         umpire  100.000000\n",
       "43                          sv_id  100.000000\n",
       "69  estimated_ba_using_speedangle   82.417617\n",
       "75             launch_speed_angle   82.417617"
      ]
     },
     "execution_count": 49,
     "metadata": {},
     "output_type": "execute_result"
    }
   ],
   "source": [
    "missing_pct = pd.DataFrame(pitch_swing_data.isnull().mean()*100).reset_index()\n",
    "\n",
    "missing_pct[missing_pct[0]>80]"
   ]
  },
  {
   "cell_type": "code",
   "execution_count": 6,
   "id": "916ab20d-1892-4eea-839a-191c8c1fae2a",
   "metadata": {
    "tags": []
   },
   "outputs": [
    {
     "data": {
      "text/html": [
       "<div>\n",
       "<style scoped>\n",
       "    .dataframe tbody tr th:only-of-type {\n",
       "        vertical-align: middle;\n",
       "    }\n",
       "\n",
       "    .dataframe tbody tr th {\n",
       "        vertical-align: top;\n",
       "    }\n",
       "\n",
       "    .dataframe thead th {\n",
       "        text-align: right;\n",
       "    }\n",
       "</style>\n",
       "<table border=\"1\" class=\"dataframe\">\n",
       "  <thead>\n",
       "    <tr style=\"text-align: right;\">\n",
       "      <th></th>\n",
       "      <th>release_speed</th>\n",
       "      <th>release_pos_x</th>\n",
       "      <th>release_pos_z</th>\n",
       "      <th>batter</th>\n",
       "      <th>pitcher</th>\n",
       "      <th>spin_dir</th>\n",
       "      <th>spin_rate_deprecated</th>\n",
       "      <th>break_angle_deprecated</th>\n",
       "      <th>break_length_deprecated</th>\n",
       "      <th>zone</th>\n",
       "      <th>...</th>\n",
       "      <th>fld_score</th>\n",
       "      <th>post_away_score</th>\n",
       "      <th>post_home_score</th>\n",
       "      <th>post_bat_score</th>\n",
       "      <th>post_fld_score</th>\n",
       "      <th>spin_axis</th>\n",
       "      <th>delta_home_win_exp</th>\n",
       "      <th>delta_run_exp</th>\n",
       "      <th>bat_speed</th>\n",
       "      <th>swing_length</th>\n",
       "    </tr>\n",
       "  </thead>\n",
       "  <tbody>\n",
       "    <tr>\n",
       "      <th>count</th>\n",
       "      <td>345997.000000</td>\n",
       "      <td>345998.000000</td>\n",
       "      <td>345998.000000</td>\n",
       "      <td>346250.000000</td>\n",
       "      <td>346250.000000</td>\n",
       "      <td>0.0</td>\n",
       "      <td>0.0</td>\n",
       "      <td>0.0</td>\n",
       "      <td>0.0</td>\n",
       "      <td>345998.000000</td>\n",
       "      <td>...</td>\n",
       "      <td>346250.000000</td>\n",
       "      <td>346250.000000</td>\n",
       "      <td>346250.000000</td>\n",
       "      <td>346250.000000</td>\n",
       "      <td>346250.000000</td>\n",
       "      <td>344049.000000</td>\n",
       "      <td>346250.000000</td>\n",
       "      <td>346230.000000</td>\n",
       "      <td>155826.000000</td>\n",
       "      <td>155812.000000</td>\n",
       "    </tr>\n",
       "    <tr>\n",
       "      <th>mean</th>\n",
       "      <td>89.054222</td>\n",
       "      <td>-0.808297</td>\n",
       "      <td>5.760631</td>\n",
       "      <td>640341.389103</td>\n",
       "      <td>635722.940624</td>\n",
       "      <td>NaN</td>\n",
       "      <td>NaN</td>\n",
       "      <td>NaN</td>\n",
       "      <td>NaN</td>\n",
       "      <td>9.040442</td>\n",
       "      <td>...</td>\n",
       "      <td>2.183864</td>\n",
       "      <td>2.231353</td>\n",
       "      <td>2.112918</td>\n",
       "      <td>2.160407</td>\n",
       "      <td>2.183864</td>\n",
       "      <td>175.860424</td>\n",
       "      <td>0.000148</td>\n",
       "      <td>-0.000182</td>\n",
       "      <td>69.524839</td>\n",
       "      <td>7.228375</td>\n",
       "    </tr>\n",
       "    <tr>\n",
       "      <th>std</th>\n",
       "      <td>5.938723</td>\n",
       "      <td>1.870899</td>\n",
       "      <td>0.536150</td>\n",
       "      <td>50853.025059</td>\n",
       "      <td>53502.645360</td>\n",
       "      <td>NaN</td>\n",
       "      <td>NaN</td>\n",
       "      <td>NaN</td>\n",
       "      <td>NaN</td>\n",
       "      <td>4.239416</td>\n",
       "      <td>...</td>\n",
       "      <td>2.548858</td>\n",
       "      <td>2.556218</td>\n",
       "      <td>2.457642</td>\n",
       "      <td>2.466640</td>\n",
       "      <td>2.548858</td>\n",
       "      <td>72.457796</td>\n",
       "      <td>0.027843</td>\n",
       "      <td>0.240541</td>\n",
       "      <td>8.587908</td>\n",
       "      <td>0.979416</td>\n",
       "    </tr>\n",
       "    <tr>\n",
       "      <th>min</th>\n",
       "      <td>31.900000</td>\n",
       "      <td>-4.680000</td>\n",
       "      <td>0.850000</td>\n",
       "      <td>444482.000000</td>\n",
       "      <td>434378.000000</td>\n",
       "      <td>NaN</td>\n",
       "      <td>NaN</td>\n",
       "      <td>NaN</td>\n",
       "      <td>NaN</td>\n",
       "      <td>1.000000</td>\n",
       "      <td>...</td>\n",
       "      <td>0.000000</td>\n",
       "      <td>0.000000</td>\n",
       "      <td>0.000000</td>\n",
       "      <td>0.000000</td>\n",
       "      <td>0.000000</td>\n",
       "      <td>0.000000</td>\n",
       "      <td>-0.776000</td>\n",
       "      <td>-1.479000</td>\n",
       "      <td>0.851208</td>\n",
       "      <td>0.305870</td>\n",
       "    </tr>\n",
       "    <tr>\n",
       "      <th>25%</th>\n",
       "      <td>84.700000</td>\n",
       "      <td>-2.120000</td>\n",
       "      <td>5.490000</td>\n",
       "      <td>621028.000000</td>\n",
       "      <td>607192.000000</td>\n",
       "      <td>NaN</td>\n",
       "      <td>NaN</td>\n",
       "      <td>NaN</td>\n",
       "      <td>NaN</td>\n",
       "      <td>5.000000</td>\n",
       "      <td>...</td>\n",
       "      <td>0.000000</td>\n",
       "      <td>0.000000</td>\n",
       "      <td>0.000000</td>\n",
       "      <td>0.000000</td>\n",
       "      <td>0.000000</td>\n",
       "      <td>128.000000</td>\n",
       "      <td>0.000000</td>\n",
       "      <td>-0.064000</td>\n",
       "      <td>67.006615</td>\n",
       "      <td>6.660660</td>\n",
       "    </tr>\n",
       "    <tr>\n",
       "      <th>50%</th>\n",
       "      <td>89.900000</td>\n",
       "      <td>-1.490000</td>\n",
       "      <td>5.800000</td>\n",
       "      <td>663624.000000</td>\n",
       "      <td>656887.000000</td>\n",
       "      <td>NaN</td>\n",
       "      <td>NaN</td>\n",
       "      <td>NaN</td>\n",
       "      <td>NaN</td>\n",
       "      <td>11.000000</td>\n",
       "      <td>...</td>\n",
       "      <td>1.000000</td>\n",
       "      <td>1.000000</td>\n",
       "      <td>1.000000</td>\n",
       "      <td>1.000000</td>\n",
       "      <td>1.000000</td>\n",
       "      <td>199.000000</td>\n",
       "      <td>0.000000</td>\n",
       "      <td>-0.015000</td>\n",
       "      <td>70.907687</td>\n",
       "      <td>7.282000</td>\n",
       "    </tr>\n",
       "    <tr>\n",
       "      <th>75%</th>\n",
       "      <td>93.900000</td>\n",
       "      <td>0.920000</td>\n",
       "      <td>6.090000</td>\n",
       "      <td>671218.000000</td>\n",
       "      <td>670059.000000</td>\n",
       "      <td>NaN</td>\n",
       "      <td>NaN</td>\n",
       "      <td>NaN</td>\n",
       "      <td>NaN</td>\n",
       "      <td>13.000000</td>\n",
       "      <td>...</td>\n",
       "      <td>3.000000</td>\n",
       "      <td>3.000000</td>\n",
       "      <td>3.000000</td>\n",
       "      <td>3.000000</td>\n",
       "      <td>3.000000</td>\n",
       "      <td>223.000000</td>\n",
       "      <td>0.000000</td>\n",
       "      <td>0.032000</td>\n",
       "      <td>74.197170</td>\n",
       "      <td>7.884032</td>\n",
       "    </tr>\n",
       "    <tr>\n",
       "      <th>max</th>\n",
       "      <td>104.000000</td>\n",
       "      <td>4.620000</td>\n",
       "      <td>7.530000</td>\n",
       "      <td>808982.000000</td>\n",
       "      <td>814005.000000</td>\n",
       "      <td>NaN</td>\n",
       "      <td>NaN</td>\n",
       "      <td>NaN</td>\n",
       "      <td>NaN</td>\n",
       "      <td>14.000000</td>\n",
       "      <td>...</td>\n",
       "      <td>20.000000</td>\n",
       "      <td>17.000000</td>\n",
       "      <td>20.000000</td>\n",
       "      <td>20.000000</td>\n",
       "      <td>20.000000</td>\n",
       "      <td>360.000000</td>\n",
       "      <td>0.840000</td>\n",
       "      <td>3.503000</td>\n",
       "      <td>87.978801</td>\n",
       "      <td>10.386860</td>\n",
       "    </tr>\n",
       "  </tbody>\n",
       "</table>\n",
       "<p>8 rows × 77 columns</p>\n",
       "</div>"
      ],
      "text/plain": [
       "       release_speed  release_pos_x  release_pos_z         batter  \\\n",
       "count  345997.000000  345998.000000  345998.000000  346250.000000   \n",
       "mean       89.054222      -0.808297       5.760631  640341.389103   \n",
       "std         5.938723       1.870899       0.536150   50853.025059   \n",
       "min        31.900000      -4.680000       0.850000  444482.000000   \n",
       "25%        84.700000      -2.120000       5.490000  621028.000000   \n",
       "50%        89.900000      -1.490000       5.800000  663624.000000   \n",
       "75%        93.900000       0.920000       6.090000  671218.000000   \n",
       "max       104.000000       4.620000       7.530000  808982.000000   \n",
       "\n",
       "             pitcher  spin_dir  spin_rate_deprecated  break_angle_deprecated  \\\n",
       "count  346250.000000       0.0                   0.0                     0.0   \n",
       "mean   635722.940624       NaN                   NaN                     NaN   \n",
       "std     53502.645360       NaN                   NaN                     NaN   \n",
       "min    434378.000000       NaN                   NaN                     NaN   \n",
       "25%    607192.000000       NaN                   NaN                     NaN   \n",
       "50%    656887.000000       NaN                   NaN                     NaN   \n",
       "75%    670059.000000       NaN                   NaN                     NaN   \n",
       "max    814005.000000       NaN                   NaN                     NaN   \n",
       "\n",
       "       break_length_deprecated           zone  ...      fld_score  \\\n",
       "count                      0.0  345998.000000  ...  346250.000000   \n",
       "mean                       NaN       9.040442  ...       2.183864   \n",
       "std                        NaN       4.239416  ...       2.548858   \n",
       "min                        NaN       1.000000  ...       0.000000   \n",
       "25%                        NaN       5.000000  ...       0.000000   \n",
       "50%                        NaN      11.000000  ...       1.000000   \n",
       "75%                        NaN      13.000000  ...       3.000000   \n",
       "max                        NaN      14.000000  ...      20.000000   \n",
       "\n",
       "       post_away_score  post_home_score  post_bat_score  post_fld_score  \\\n",
       "count    346250.000000    346250.000000   346250.000000   346250.000000   \n",
       "mean          2.231353         2.112918        2.160407        2.183864   \n",
       "std           2.556218         2.457642        2.466640        2.548858   \n",
       "min           0.000000         0.000000        0.000000        0.000000   \n",
       "25%           0.000000         0.000000        0.000000        0.000000   \n",
       "50%           1.000000         1.000000        1.000000        1.000000   \n",
       "75%           3.000000         3.000000        3.000000        3.000000   \n",
       "max          17.000000        20.000000       20.000000       20.000000   \n",
       "\n",
       "           spin_axis  delta_home_win_exp  delta_run_exp      bat_speed  \\\n",
       "count  344049.000000       346250.000000  346230.000000  155826.000000   \n",
       "mean      175.860424            0.000148      -0.000182      69.524839   \n",
       "std        72.457796            0.027843       0.240541       8.587908   \n",
       "min         0.000000           -0.776000      -1.479000       0.851208   \n",
       "25%       128.000000            0.000000      -0.064000      67.006615   \n",
       "50%       199.000000            0.000000      -0.015000      70.907687   \n",
       "75%       223.000000            0.000000       0.032000      74.197170   \n",
       "max       360.000000            0.840000       3.503000      87.978801   \n",
       "\n",
       "        swing_length  \n",
       "count  155812.000000  \n",
       "mean        7.228375  \n",
       "std         0.979416  \n",
       "min         0.305870  \n",
       "25%         6.660660  \n",
       "50%         7.282000  \n",
       "75%         7.884032  \n",
       "max        10.386860  \n",
       "\n",
       "[8 rows x 77 columns]"
      ]
     },
     "execution_count": 6,
     "metadata": {},
     "output_type": "execute_result"
    }
   ],
   "source": [
    "pitch_swing_data.describe()"
   ]
  },
  {
   "cell_type": "code",
   "execution_count": 7,
   "id": "834a5fb7-5b10-403d-b42d-4b57b6f91795",
   "metadata": {
    "tags": []
   },
   "outputs": [
    {
     "data": {
      "text/plain": [
       "pitch_type\n",
       "FF    108346\n",
       "SL     57024\n",
       "SI     55770\n",
       "CH     35317\n",
       "FC     28199\n",
       "CU     22573\n",
       "ST     20013\n",
       "FS     10920\n",
       "KC      5524\n",
       "SV      1159\n",
       "KN       576\n",
       "FA       288\n",
       "EP       166\n",
       "FO       102\n",
       "PO        20\n",
       "CS         3\n",
       "Name: count, dtype: int64"
      ]
     },
     "execution_count": 7,
     "metadata": {},
     "output_type": "execute_result"
    }
   ],
   "source": [
    "pitch_swing_data['pitch_type'].value_counts()"
   ]
  },
  {
   "cell_type": "code",
   "execution_count": 10,
   "id": "fab7e855-a9d1-412e-8cb0-e31320f4221a",
   "metadata": {},
   "outputs": [
    {
     "data": {
      "text/plain": [
       "('2024-04-02', '2024-06-30')"
      ]
     },
     "execution_count": 10,
     "metadata": {},
     "output_type": "execute_result"
    }
   ],
   "source": [
    "pitch_swing_data['game_date'].min(), pitch_swing_data['game_date'].max()"
   ]
  },
  {
   "cell_type": "code",
   "execution_count": null,
   "id": "57ca3d6e-8250-4d66-9e79-6920b3432d4d",
   "metadata": {
    "tags": []
   },
   "outputs": [],
   "source": []
  },
  {
   "cell_type": "code",
   "execution_count": 18,
   "id": "a6b0db6d-74ce-4300-a118-d036309f61cb",
   "metadata": {
    "tags": []
   },
   "outputs": [
    {
     "data": {
      "text/plain": [
       "<Axes: >"
      ]
     },
     "execution_count": 18,
     "metadata": {},
     "output_type": "execute_result"
    },
    {
     "data": {
      "image/png": "[encoded data removed]",
      "text/plain": [
       "<Figure size 640x480 with 1 Axes>"
      ]
     },
     "metadata": {},
     "output_type": "display_data"
    }
   ],
   "source": [
    "pitch_swing_data['release_speed'].hist(bins = 100)"
   ]
  },
  {
   "cell_type": "code",
   "execution_count": 20,
   "id": "86de9179-9c42-4b65-8aca-ff1fcfbf9d79",
   "metadata": {
    "tags": []
   },
   "outputs": [
    {
     "data": {
      "text/plain": [
       "<Axes: >"
      ]
     },
     "execution_count": 20,
     "metadata": {},
     "output_type": "execute_result"
    },
    {
     "data": {
      "image/png": "[encoded data removed]",
      "text/plain": [
       "<Figure size 640x480 with 1 Axes>"
      ]
     },
     "metadata": {},
     "output_type": "display_data"
    }
   ],
   "source": [
    "pitch_swing_data['release_pos_x'].hist(bins = 100)"
   ]
  },
  {
   "cell_type": "code",
   "execution_count": 21,
   "id": "a7c08640-dcd0-4ac9-9400-a42161bf0f32",
   "metadata": {
    "tags": []
   },
   "outputs": [
    {
     "data": {
      "text/plain": [
       "<Axes: >"
      ]
     },
     "execution_count": 21,
     "metadata": {},
     "output_type": "execute_result"
    },
    {
     "data": {
      "image/png": "[encoded data removed]",
      "text/plain": [
       "<Figure size 640x480 with 1 Axes>"
      ]
     },
     "metadata": {},
     "output_type": "display_data"
    }
   ],
   "source": [
    "pitch_swing_data['release_pos_z'].hist(bins = 100)"
   ]
  },
  {
   "cell_type": "code",
   "execution_count": 22,
   "id": "3809965b-e6d4-4913-948e-26b1b18cd5e8",
   "metadata": {
    "tags": []
   },
   "outputs": [
    {
     "data": {
      "text/plain": [
       "559"
      ]
     },
     "execution_count": 22,
     "metadata": {},
     "output_type": "execute_result"
    }
   ],
   "source": [
    "pitch_swing_data['player_name'].nunique()"
   ]
  },
  {
   "cell_type": "code",
   "execution_count": 23,
   "id": "a2f372ab-bbfb-4694-8531-79716677638b",
   "metadata": {
    "tags": []
   },
   "outputs": [
    {
     "data": {
      "text/plain": [
       "559"
      ]
     },
     "execution_count": 23,
     "metadata": {},
     "output_type": "execute_result"
    }
   ],
   "source": [
    "pitch_swing_data['batter'].nunique()"
   ]
  },
  {
   "cell_type": "code",
   "execution_count": 24,
   "id": "5ae9dacd-ae0a-439d-a81e-51b5b1253002",
   "metadata": {
    "tags": []
   },
   "outputs": [
    {
     "data": {
      "text/plain": [
       "689"
      ]
     },
     "execution_count": 24,
     "metadata": {},
     "output_type": "execute_result"
    }
   ],
   "source": [
    "pitch_swing_data['pitcher'].nunique()"
   ]
  },
  {
   "cell_type": "code",
   "execution_count": 26,
   "id": "bf06ea15-cad4-40d3-92ac-b1ad5ada4cbc",
   "metadata": {
    "tags": []
   },
   "outputs": [
    {
     "data": {
      "text/plain": [
       "events\n",
       "field_out                       36512\n",
       "strikeout                       19716\n",
       "single                          12643\n",
       "walk                             7042\n",
       "double                           3812\n",
       "home_run                         2532\n",
       "force_out                        1716\n",
       "grounded_into_double_play        1614\n",
       "hit_by_pitch                     1012\n",
       "sac_fly                           621\n",
       "field_error                       570\n",
       "triple                            353\n",
       "sac_bunt                          225\n",
       "fielders_choice                   176\n",
       "fielders_choice_out               163\n",
       "double_play                       161\n",
       "caught_stealing_2b                131\n",
       "strikeout_double_play              57\n",
       "catcher_interf                     55\n",
       "other_out                           9\n",
       "caught_stealing_home                6\n",
       "caught_stealing_3b                  6\n",
       "pickoff_1b                          4\n",
       "stolen_base_2b                      2\n",
       "sac_fly_double_play                 2\n",
       "pickoff_caught_stealing_3b          1\n",
       "pickoff_caught_stealing_home        1\n",
       "pickoff_3b                          1\n",
       "triple_play                         1\n",
       "Name: count, dtype: int64"
      ]
     },
     "execution_count": 26,
     "metadata": {},
     "output_type": "execute_result"
    }
   ],
   "source": [
    "pitch_swing_data['events'].value_counts()"
   ]
  },
  {
   "cell_type": "code",
   "execution_count": 27,
   "id": "502e80dc-a4d8-403c-8153-946547e431a6",
   "metadata": {
    "tags": []
   },
   "outputs": [
    {
     "data": {
      "text/plain": [
       "description\n",
       "ball                       115169\n",
       "foul                        62378\n",
       "hit_into_play               61105\n",
       "called_strike               57244\n",
       "swinging_strike             35799\n",
       "blocked_ball                 7308\n",
       "foul_tip                     3654\n",
       "swinging_strike_blocked      1877\n",
       "hit_by_pitch                 1012\n",
       "foul_bunt                     586\n",
       "missed_bunt                    94\n",
       "pitchout                       20\n",
       "bunt_foul_tip                   4\n",
       "Name: count, dtype: int64"
      ]
     },
     "execution_count": 27,
     "metadata": {},
     "output_type": "execute_result"
    }
   ],
   "source": [
    "pitch_swing_data['description'].value_counts()"
   ]
  },
  {
   "cell_type": "code",
   "execution_count": 32,
   "id": "d28c9b71-e4ba-4525-a7f3-ba4ac33f7bc8",
   "metadata": {
    "tags": []
   },
   "outputs": [
    {
     "data": {
      "text/plain": [
       "Series([], Name: count, dtype: int64)"
      ]
     },
     "execution_count": 32,
     "metadata": {},
     "output_type": "execute_result"
    }
   ],
   "source": [
    "pitch_swing_data['spin_dir'].value_counts()"
   ]
  },
  {
   "cell_type": "code",
   "execution_count": 33,
   "id": "aef2f54d-83f1-4367-91fb-b8855eea3c02",
   "metadata": {
    "tags": []
   },
   "outputs": [
    {
     "data": {
      "text/plain": [
       "Series([], Name: count, dtype: int64)"
      ]
     },
     "execution_count": 33,
     "metadata": {},
     "output_type": "execute_result"
    }
   ],
   "source": [
    "pitch_swing_data['spin_rate_deprecated'].value_counts()"
   ]
  },
  {
   "cell_type": "code",
   "execution_count": 34,
   "id": "fa23f639-860e-4cac-8b79-3215026f7abc",
   "metadata": {
    "tags": []
   },
   "outputs": [
    {
     "data": {
      "text/plain": [
       "Series([], Name: count, dtype: int64)"
      ]
     },
     "execution_count": 34,
     "metadata": {},
     "output_type": "execute_result"
    }
   ],
   "source": [
    "pitch_swing_data['break_angle_deprecated'].value_counts()"
   ]
  },
  {
   "cell_type": "code",
   "execution_count": 35,
   "id": "1dcfa494-ffd5-402c-bd3e-9c51b40110a2",
   "metadata": {
    "tags": []
   },
   "outputs": [
    {
     "data": {
      "text/plain": [
       "Series([], Name: count, dtype: int64)"
      ]
     },
     "execution_count": 35,
     "metadata": {},
     "output_type": "execute_result"
    }
   ],
   "source": [
    "pitch_swing_data['break_length_deprecated'].value_counts()"
   ]
  },
  {
   "cell_type": "code",
   "execution_count": 36,
   "id": "750a4cc7-b507-4c16-a4f1-089b5c9d0bc0",
   "metadata": {
    "tags": []
   },
   "outputs": [
    {
     "data": {
      "text/plain": [
       "zone\n",
       "14.0    66145\n",
       "13.0    42739\n",
       "11.0    35822\n",
       "12.0    28753\n",
       "5.0     26187\n",
       "8.0     22494\n",
       "6.0     21387\n",
       "4.0     20401\n",
       "9.0     20097\n",
       "2.0     17517\n",
       "7.0     16550\n",
       "1.0     14514\n",
       "3.0     13392\n",
       "Name: count, dtype: int64"
      ]
     },
     "execution_count": 36,
     "metadata": {},
     "output_type": "execute_result"
    }
   ],
   "source": [
    "pitch_swing_data['zone'].value_counts()"
   ]
  },
  {
   "cell_type": "code",
   "execution_count": 37,
   "id": "a316d9f3-bd5d-4ddf-8482-1441b63d3542",
   "metadata": {
    "tags": []
   },
   "outputs": [
    {
     "data": {
      "text/plain": [
       "des\n",
       "Bryan De La Cruz strikes out swinging.                                                            365\n",
       "Ezequiel Tovar strikes out swinging.                                                              359\n",
       "Cal Raleigh strikes out swinging.                                                                 357\n",
       "Kyle Schwarber strikes out swinging.                                                              348\n",
       "Paul DeJong strikes out swinging.                                                                 335\n",
       "                                                                                                 ... \n",
       "Tyler Fitzgerald flies out to center fielder Andy Pages.                                            1\n",
       "Chas McCormick singles on a line drive to left fielder Brandon Nimmo.   Mauricio Dubón scores.      1\n",
       "Trey Cabbage flies out to center fielder Harrison Bader.   Mauricio Dubón to 3rd.                   1\n",
       "Austin Slater grounds out to first baseman Cavan Biggio.                                            1\n",
       "DJ Stewart pops out to shortstop Jeremy Peña.                                                       1\n",
       "Name: count, Length: 62167, dtype: int64"
      ]
     },
     "execution_count": 37,
     "metadata": {},
     "output_type": "execute_result"
    }
   ],
   "source": [
    "pitch_swing_data['des'].value_counts()"
   ]
  },
  {
   "cell_type": "code",
   "execution_count": 38,
   "id": "4c15009e-498f-4540-81b2-8a14aa4e7987",
   "metadata": {
    "tags": []
   },
   "outputs": [
    {
     "data": {
      "text/plain": [
       "game_type\n",
       "R    346250\n",
       "Name: count, dtype: int64"
      ]
     },
     "execution_count": 38,
     "metadata": {},
     "output_type": "execute_result"
    }
   ],
   "source": [
    "pitch_swing_data['game_type'].value_counts()"
   ]
  },
  {
   "cell_type": "code",
   "execution_count": 39,
   "id": "aa87f85c-95a4-464e-ae48-500023cc9e17",
   "metadata": {
    "tags": []
   },
   "outputs": [
    {
     "data": {
      "text/plain": [
       "stand\n",
       "R    200003\n",
       "L    146247\n",
       "Name: count, dtype: int64"
      ]
     },
     "execution_count": 39,
     "metadata": {},
     "output_type": "execute_result"
    }
   ],
   "source": [
    "pitch_swing_data['stand'].value_counts()"
   ]
  },
  {
   "cell_type": "code",
   "execution_count": 40,
   "id": "7bc0b443-b7d5-40e8-88b1-7499562a7106",
   "metadata": {
    "tags": []
   },
   "outputs": [
    {
     "data": {
      "text/plain": [
       "p_throws\n",
       "R    252561\n",
       "L     93689\n",
       "Name: count, dtype: int64"
      ]
     },
     "execution_count": 40,
     "metadata": {},
     "output_type": "execute_result"
    }
   ],
   "source": [
    "pitch_swing_data['p_throws'].value_counts()"
   ]
  },
  {
   "cell_type": "code",
   "execution_count": 29,
   "id": "817febf4-c340-4f1b-be59-01213658aa2b",
   "metadata": {
    "tags": []
   },
   "outputs": [
    {
     "data": {
      "text/plain": [
       "Index(['pitch_type', 'game_date', 'release_speed', 'release_pos_x',\n",
       "       'release_pos_z', 'player_name', 'batter', 'pitcher', 'events',\n",
       "       'description', 'spin_dir', 'spin_rate_deprecated',\n",
       "       'break_angle_deprecated', 'break_length_deprecated', 'zone', 'des',\n",
       "       'game_type', 'stand', 'p_throws', 'home_team', 'away_team', 'type',\n",
       "       'hit_location', 'bb_type', 'balls', 'strikes', 'game_year', 'pfx_x',\n",
       "       'pfx_z', 'plate_x', 'plate_z', 'on_3b', 'on_2b', 'on_1b',\n",
       "       'outs_when_up', 'inning', 'inning_topbot', 'hc_x', 'hc_y',\n",
       "       'tfs_deprecated', 'tfs_zulu_deprecated', 'fielder_2', 'umpire', 'sv_id',\n",
       "       'vx0', 'vy0', 'vz0', 'ax', 'ay', 'az', 'sz_top', 'sz_bot',\n",
       "       'hit_distance_sc', 'launch_speed', 'launch_angle', 'effective_speed',\n",
       "       'release_spin_rate', 'release_extension', 'game_pk', 'pitcher_1',\n",
       "       'fielder_2_1', 'fielder_3', 'fielder_4', 'fielder_5', 'fielder_6',\n",
       "       'fielder_7', 'fielder_8', 'fielder_9', 'release_pos_y',\n",
       "       'estimated_ba_using_speedangle', 'estimated_woba_using_speedangle',\n",
       "       'woba_value', 'woba_denom', 'babip_value', 'iso_value',\n",
       "       'launch_speed_angle', 'at_bat_number', 'pitch_number', 'pitch_name',\n",
       "       'home_score', 'away_score', 'bat_score', 'fld_score', 'post_away_score',\n",
       "       'post_home_score', 'post_bat_score', 'post_fld_score',\n",
       "       'if_fielding_alignment', 'of_fielding_alignment', 'spin_axis',\n",
       "       'delta_home_win_exp', 'delta_run_exp', 'bat_speed', 'swing_length'],\n",
       "      dtype='object')"
      ]
     },
     "execution_count": 29,
     "metadata": {},
     "output_type": "execute_result"
    }
   ],
   "source": [
    "pitch_swing_data.columns"
   ]
  },
  {
   "cell_type": "code",
   "execution_count": null,
   "id": "18efb728-473d-441b-a6c0-c83905d7d644",
   "metadata": {},
   "outputs": [],
   "source": []
  }
 ],
 "metadata": {
  "availableInstances": [
   {
    "_defaultOrder": 0,
    "_isFastLaunch": true,
    "category": "General purpose",
    "gpuNum": 0,
    "hideHardwareSpecs": false,
    "memoryGiB": 4,
    "name": "ml.t3.medium",
    "vcpuNum": 2
   },
   {
    "_defaultOrder": 1,
    "_isFastLaunch": false,
    "category": "General purpose",
    "gpuNum": 0,
    "hideHardwareSpecs": false,
    "memoryGiB": 8,
    "name": "ml.t3.large",
    "vcpuNum": 2
   },
   {
    "_defaultOrder": 2,
    "_isFastLaunch": false,
    "category": "General purpose",
    "gpuNum": 0,
    "hideHardwareSpecs": false,
    "memoryGiB": 16,
    "name": "ml.t3.xlarge",
    "vcpuNum": 4
   },
   {
    "_defaultOrder": 3,
    "_isFastLaunch": false,
    "category": "General purpose",
    "gpuNum": 0,
    "hideHardwareSpecs": false,
    "memoryGiB": 32,
    "name": "ml.t3.2xlarge",
    "vcpuNum": 8
   },
   {
    "_defaultOrder": 4,
    "_isFastLaunch": true,
    "category": "General purpose",
    "gpuNum": 0,
    "hideHardwareSpecs": false,
    "memoryGiB": 8,
    "name": "ml.m5.large",
    "vcpuNum": 2
   },
   {
    "_defaultOrder": 5,
    "_isFastLaunch": false,
    "category": "General purpose",
    "gpuNum": 0,
    "hideHardwareSpecs": false,
    "memoryGiB": 16,
    "name": "ml.m5.xlarge",
    "vcpuNum": 4
   },
   {
    "_defaultOrder": 6,
    "_isFastLaunch": false,
    "category": "General purpose",
    "gpuNum": 0,
    "hideHardwareSpecs": false,
    "memoryGiB": 32,
    "name": "ml.m5.2xlarge",
    "vcpuNum": 8
   },
   {
    "_defaultOrder": 7,
    "_isFastLaunch": false,
    "category": "General purpose",
    "gpuNum": 0,
    "hideHardwareSpecs": false,
    "memoryGiB": 64,
    "name": "ml.m5.4xlarge",
    "vcpuNum": 16
   },
   {
    "_defaultOrder": 8,
    "_isFastLaunch": false,
    "category": "General purpose",
    "gpuNum": 0,
    "hideHardwareSpecs": false,
    "memoryGiB": 128,
    "name": "ml.m5.8xlarge",
    "vcpuNum": 32
   },
   {
    "_defaultOrder": 9,
    "_isFastLaunch": false,
    "category": "General purpose",
    "gpuNum": 0,
    "hideHardwareSpecs": false,
    "memoryGiB": 192,
    "name": "ml.m5.12xlarge",
    "vcpuNum": 48
   },
   {
    "_defaultOrder": 10,
    "_isFastLaunch": false,
    "category": "General purpose",
    "gpuNum": 0,
    "hideHardwareSpecs": false,
    "memoryGiB": 256,
    "name": "ml.m5.16xlarge",
    "vcpuNum": 64
   },
   {
    "_defaultOrder": 11,
    "_isFastLaunch": false,
    "category": "General purpose",
    "gpuNum": 0,
    "hideHardwareSpecs": false,
    "memoryGiB": 384,
    "name": "ml.m5.24xlarge",
    "vcpuNum": 96
   },
   {
    "_defaultOrder": 12,
    "_isFastLaunch": false,
    "category": "General purpose",
    "gpuNum": 0,
    "hideHardwareSpecs": false,
    "memoryGiB": 8,
    "name": "ml.m5d.large",
    "vcpuNum": 2
   },
   {
    "_defaultOrder": 13,
    "_isFastLaunch": false,
    "category": "General purpose",
    "gpuNum": 0,
    "hideHardwareSpecs": false,
    "memoryGiB": 16,
    "name": "ml.m5d.xlarge",
    "vcpuNum": 4
   },
   {
    "_defaultOrder": 14,
    "_isFastLaunch": false,
    "category": "General purpose",
    "gpuNum": 0,
    "hideHardwareSpecs": false,
    "memoryGiB": 32,
    "name": "ml.m5d.2xlarge",
    "vcpuNum": 8
   },
   {
    "_defaultOrder": 15,
    "_isFastLaunch": false,
    "category": "General purpose",
    "gpuNum": 0,
    "hideHardwareSpecs": false,
    "memoryGiB": 64,
    "name": "ml.m5d.4xlarge",
    "vcpuNum": 16
   },
   {
    "_defaultOrder": 16,
    "_isFastLaunch": false,
    "category": "General purpose",
    "gpuNum": 0,
    "hideHardwareSpecs": false,
    "memoryGiB": 128,
    "name": "ml.m5d.8xlarge",
    "vcpuNum": 32
   },
   {
    "_defaultOrder": 17,
    "_isFastLaunch": false,
    "category": "General purpose",
    "gpuNum": 0,
    "hideHardwareSpecs": false,
    "memoryGiB": 192,
    "name": "ml.m5d.12xlarge",
    "vcpuNum": 48
   },
   {
    "_defaultOrder": 18,
    "_isFastLaunch": false,
    "category": "General purpose",
    "gpuNum": 0,
    "hideHardwareSpecs": false,
    "memoryGiB": 256,
    "name": "ml.m5d.16xlarge",
    "vcpuNum": 64
   },
   {
    "_defaultOrder": 19,
    "_isFastLaunch": false,
    "category": "General purpose",
    "gpuNum": 0,
    "hideHardwareSpecs": false,
    "memoryGiB": 384,
    "name": "ml.m5d.24xlarge",
    "vcpuNum": 96
   },
   {
    "_defaultOrder": 20,
    "_isFastLaunch": false,
    "category": "General purpose",
    "gpuNum": 0,
    "hideHardwareSpecs": true,
    "memoryGiB": 0,
    "name": "ml.geospatial.interactive",
    "supportedImageNames": [
     "sagemaker-geospatial-v1-0"
    ],
    "vcpuNum": 0
   },
   {
    "_defaultOrder": 21,
    "_isFastLaunch": true,
    "category": "Compute optimized",
    "gpuNum": 0,
    "hideHardwareSpecs": false,
    "memoryGiB": 4,
    "name": "ml.c5.large",
    "vcpuNum": 2
   },
   {
    "_defaultOrder": 22,
    "_isFastLaunch": false,
    "category": "Compute optimized",
    "gpuNum": 0,
    "hideHardwareSpecs": false,
    "memoryGiB": 8,
    "name": "ml.c5.xlarge",
    "vcpuNum": 4
   },
   {
    "_defaultOrder": 23,
    "_isFastLaunch": false,
    "category": "Compute optimized",
    "gpuNum": 0,
    "hideHardwareSpecs": false,
    "memoryGiB": 16,
    "name": "ml.c5.2xlarge",
    "vcpuNum": 8
   },
   {
    "_defaultOrder": 24,
    "_isFastLaunch": false,
    "category": "Compute optimized",
    "gpuNum": 0,
    "hideHardwareSpecs": false,
    "memoryGiB": 32,
    "name": "ml.c5.4xlarge",
    "vcpuNum": 16
   },
   {
    "_defaultOrder": 25,
    "_isFastLaunch": false,
    "category": "Compute optimized",
    "gpuNum": 0,
    "hideHardwareSpecs": false,
    "memoryGiB": 72,
    "name": "ml.c5.9xlarge",
    "vcpuNum": 36
   },
   {
    "_defaultOrder": 26,
    "_isFastLaunch": false,
    "category": "Compute optimized",
    "gpuNum": 0,
    "hideHardwareSpecs": false,
    "memoryGiB": 96,
    "name": "ml.c5.12xlarge",
    "vcpuNum": 48
   },
   {
    "_defaultOrder": 27,
    "_isFastLaunch": false,
    "category": "Compute optimized",
    "gpuNum": 0,
    "hideHardwareSpecs": false,
    "memoryGiB": 144,
    "name": "ml.c5.18xlarge",
    "vcpuNum": 72
   },
   {
    "_defaultOrder": 28,
    "_isFastLaunch": false,
    "category": "Compute optimized",
    "gpuNum": 0,
    "hideHardwareSpecs": false,
    "memoryGiB": 192,
    "name": "ml.c5.24xlarge",
    "vcpuNum": 96
   },
   {
    "_defaultOrder": 29,
    "_isFastLaunch": true,
    "category": "Accelerated computing",
    "gpuNum": 1,
    "hideHardwareSpecs": false,
    "memoryGiB": 16,
    "name": "ml.g4dn.xlarge",
    "vcpuNum": 4
   },
   {
    "_defaultOrder": 30,
    "_isFastLaunch": false,
    "category": "Accelerated computing",
    "gpuNum": 1,
    "hideHardwareSpecs": false,
    "memoryGiB": 32,
    "name": "ml.g4dn.2xlarge",
    "vcpuNum": 8
   },
   {
    "_defaultOrder": 31,
    "_isFastLaunch": false,
    "category": "Accelerated computing",
    "gpuNum": 1,
    "hideHardwareSpecs": false,
    "memoryGiB": 64,
    "name": "ml.g4dn.4xlarge",
    "vcpuNum": 16
   },
   {
    "_defaultOrder": 32,
    "_isFastLaunch": false,
    "category": "Accelerated computing",
    "gpuNum": 1,
    "hideHardwareSpecs": false,
    "memoryGiB": 128,
    "name": "ml.g4dn.8xlarge",
    "vcpuNum": 32
   },
   {
    "_defaultOrder": 33,
    "_isFastLaunch": false,
    "category": "Accelerated computing",
    "gpuNum": 4,
    "hideHardwareSpecs": false,
    "memoryGiB": 192,
    "name": "ml.g4dn.12xlarge",
    "vcpuNum": 48
   },
   {
    "_defaultOrder": 34,
    "_isFastLaunch": false,
    "category": "Accelerated computing",
    "gpuNum": 1,
    "hideHardwareSpecs": false,
    "memoryGiB": 256,
    "name": "ml.g4dn.16xlarge",
    "vcpuNum": 64
   },
   {
    "_defaultOrder": 35,
    "_isFastLaunch": false,
    "category": "Accelerated computing",
    "gpuNum": 1,
    "hideHardwareSpecs": false,
    "memoryGiB": 61,
    "name": "ml.p3.2xlarge",
    "vcpuNum": 8
   },
   {
    "_defaultOrder": 36,
    "_isFastLaunch": false,
    "category": "Accelerated computing",
    "gpuNum": 4,
    "hideHardwareSpecs": false,
    "memoryGiB": 244,
    "name": "ml.p3.8xlarge",
    "vcpuNum": 32
   },
   {
    "_defaultOrder": 37,
    "_isFastLaunch": false,
    "category": "Accelerated computing",
    "gpuNum": 8,
    "hideHardwareSpecs": false,
    "memoryGiB": 488,
    "name": "ml.p3.16xlarge",
    "vcpuNum": 64
   },
   {
    "_defaultOrder": 38,
    "_isFastLaunch": false,
    "category": "Accelerated computing",
    "gpuNum": 8,
    "hideHardwareSpecs": false,
    "memoryGiB": 768,
    "name": "ml.p3dn.24xlarge",
    "vcpuNum": 96
   },
   {
    "_defaultOrder": 39,
    "_isFastLaunch": false,
    "category": "Memory Optimized",
    "gpuNum": 0,
    "hideHardwareSpecs": false,
    "memoryGiB": 16,
    "name": "ml.r5.large",
    "vcpuNum": 2
   },
   {
    "_defaultOrder": 40,
    "_isFastLaunch": false,
    "category": "Memory Optimized",
    "gpuNum": 0,
    "hideHardwareSpecs": false,
    "memoryGiB": 32,
    "name": "ml.r5.xlarge",
    "vcpuNum": 4
   },
   {
    "_defaultOrder": 41,
    "_isFastLaunch": false,
    "category": "Memory Optimized",
    "gpuNum": 0,
    "hideHardwareSpecs": false,
    "memoryGiB": 64,
    "name": "ml.r5.2xlarge",
    "vcpuNum": 8
   },
   {
    "_defaultOrder": 42,
    "_isFastLaunch": false,
    "category": "Memory Optimized",
    "gpuNum": 0,
    "hideHardwareSpecs": false,
    "memoryGiB": 128,
    "name": "ml.r5.4xlarge",
    "vcpuNum": 16
   },
   {
    "_defaultOrder": 43,
    "_isFastLaunch": false,
    "category": "Memory Optimized",
    "gpuNum": 0,
    "hideHardwareSpecs": false,
    "memoryGiB": 256,
    "name": "ml.r5.8xlarge",
    "vcpuNum": 32
   },
   {
    "_defaultOrder": 44,
    "_isFastLaunch": false,
    "category": "Memory Optimized",
    "gpuNum": 0,
    "hideHardwareSpecs": false,
    "memoryGiB": 384,
    "name": "ml.r5.12xlarge",
    "vcpuNum": 48
   },
   {
    "_defaultOrder": 45,
    "_isFastLaunch": false,
    "category": "Memory Optimized",
    "gpuNum": 0,
    "hideHardwareSpecs": false,
    "memoryGiB": 512,
    "name": "ml.r5.16xlarge",
    "vcpuNum": 64
   },
   {
    "_defaultOrder": 46,
    "_isFastLaunch": false,
    "category": "Memory Optimized",
    "gpuNum": 0,
    "hideHardwareSpecs": false,
    "memoryGiB": 768,
    "name": "ml.r5.24xlarge",
    "vcpuNum": 96
   },
   {
    "_defaultOrder": 47,
    "_isFastLaunch": false,
    "category": "Accelerated computing",
    "gpuNum": 1,
    "hideHardwareSpecs": false,
    "memoryGiB": 16,
    "name": "ml.g5.xlarge",
    "vcpuNum": 4
   },
   {
    "_defaultOrder": 48,
    "_isFastLaunch": false,
    "category": "Accelerated computing",
    "gpuNum": 1,
    "hideHardwareSpecs": false,
    "memoryGiB": 32,
    "name": "ml.g5.2xlarge",
    "vcpuNum": 8
   },
   {
    "_defaultOrder": 49,
    "_isFastLaunch": false,
    "category": "Accelerated computing",
    "gpuNum": 1,
    "hideHardwareSpecs": false,
    "memoryGiB": 64,
    "name": "ml.g5.4xlarge",
    "vcpuNum": 16
   },
   {
    "_defaultOrder": 50,
    "_isFastLaunch": false,
    "category": "Accelerated computing",
    "gpuNum": 1,
    "hideHardwareSpecs": false,
    "memoryGiB": 128,
    "name": "ml.g5.8xlarge",
    "vcpuNum": 32
   },
   {
    "_defaultOrder": 51,
    "_isFastLaunch": false,
    "category": "Accelerated computing",
    "gpuNum": 1,
    "hideHardwareSpecs": false,
    "memoryGiB": 256,
    "name": "ml.g5.16xlarge",
    "vcpuNum": 64
   },
   {
    "_defaultOrder": 52,
    "_isFastLaunch": false,
    "category": "Accelerated computing",
    "gpuNum": 4,
    "hideHardwareSpecs": false,
    "memoryGiB": 192,
    "name": "ml.g5.12xlarge",
    "vcpuNum": 48
   },
   {
    "_defaultOrder": 53,
    "_isFastLaunch": false,
    "category": "Accelerated computing",
    "gpuNum": 4,
    "hideHardwareSpecs": false,
    "memoryGiB": 384,
    "name": "ml.g5.24xlarge",
    "vcpuNum": 96
   },
   {
    "_defaultOrder": 54,
    "_isFastLaunch": false,
    "category": "Accelerated computing",
    "gpuNum": 8,
    "hideHardwareSpecs": false,
    "memoryGiB": 768,
    "name": "ml.g5.48xlarge",
    "vcpuNum": 192
   },
   {
    "_defaultOrder": 55,
    "_isFastLaunch": false,
    "category": "Accelerated computing",
    "gpuNum": 8,
    "hideHardwareSpecs": false,
    "memoryGiB": 1152,
    "name": "ml.p4d.24xlarge",
    "vcpuNum": 96
   },
   {
    "_defaultOrder": 56,
    "_isFastLaunch": false,
    "category": "Accelerated computing",
    "gpuNum": 8,
    "hideHardwareSpecs": false,
    "memoryGiB": 1152,
    "name": "ml.p4de.24xlarge",
    "vcpuNum": 96
   },
   {
    "_defaultOrder": 57,
    "_isFastLaunch": false,
    "category": "Accelerated computing",
    "gpuNum": 0,
    "hideHardwareSpecs": false,
    "memoryGiB": 32,
    "name": "ml.trn1.2xlarge",
    "vcpuNum": 8
   },
   {
    "_defaultOrder": 58,
    "_isFastLaunch": false,
    "category": "Accelerated computing",
    "gpuNum": 0,
    "hideHardwareSpecs": false,
    "memoryGiB": 512,
    "name": "ml.trn1.32xlarge",
    "vcpuNum": 128
   },
   {
    "_defaultOrder": 59,
    "_isFastLaunch": false,
    "category": "Accelerated computing",
    "gpuNum": 0,
    "hideHardwareSpecs": false,
    "memoryGiB": 512,
    "name": "ml.trn1n.32xlarge",
    "vcpuNum": 128
   }
  ],
  "instance_type": "ml.c5.9xlarge",
  "kernelspec": {
   "display_name": "Python 3 (Data Science 3.0)",
   "language": "python",
   "name": "python3__SAGEMAKER_INTERNAL__arn:aws:sagemaker:us-east-1:081325390199:image/sagemaker-data-science-310-v1"
  },
  "language_info": {
   "codemirror_mode": {
    "name": "ipython",
    "version": 3
   },
   "file_extension": ".py",
   "mimetype": "text/x-python",
   "name": "python",
   "nbconvert_exporter": "python",
   "pygments_lexer": "ipython3",
   "version": "3.10.6"
  }
 },
 "nbformat": 4,
 "nbformat_minor": 5
}
